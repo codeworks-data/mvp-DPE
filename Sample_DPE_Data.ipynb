{
 "cells": [
  {
   "cell_type": "code",
   "execution_count": 1,
   "metadata": {},
   "outputs": [],
   "source": [
    "import numpy as np\n",
    "import pandas as pd"
   ]
  },
  {
   "cell_type": "code",
   "execution_count": 2,
   "metadata": {},
   "outputs": [
    {
     "name": "stderr",
     "output_type": "stream",
     "text": [
      "/Users/hajaraitelkadi/opt/anaconda3/lib/python3.8/site-packages/IPython/core/interactiveshell.py:3071: DtypeWarning: Columns (35,39,52) have mixed types.Specify dtype option on import or set low_memory=False.\n",
      "  has_raised = await self.run_ast_nodes(code_ast.body, cell_name,\n",
      "/Users/hajaraitelkadi/opt/anaconda3/lib/python3.8/site-packages/numpy/lib/arraysetops.py:569: FutureWarning: elementwise comparison failed; returning scalar instead, but in the future will perform elementwise comparison\n",
      "  mask |= (ar1 == a)\n"
     ]
    }
   ],
   "source": [
    "data = pd.read_csv(\"/Users/hajaraitelkadi/Downloads/CodeLab-DPE/france-entiere/td001_dpe-clean.csv\", index_col = 0)"
   ]
  },
  {
   "cell_type": "code",
   "execution_count": 3,
   "metadata": {
    "scrolled": true
   },
   "outputs": [
    {
     "data": {
      "text/html": [
       "<div>\n",
       "<style scoped>\n",
       "    .dataframe tbody tr th:only-of-type {\n",
       "        vertical-align: middle;\n",
       "    }\n",
       "\n",
       "    .dataframe tbody tr th {\n",
       "        vertical-align: top;\n",
       "    }\n",
       "\n",
       "    .dataframe thead th {\n",
       "        text-align: right;\n",
       "    }\n",
       "</style>\n",
       "<table border=\"1\" class=\"dataframe\">\n",
       "  <thead>\n",
       "    <tr style=\"text-align: right;\">\n",
       "      <th></th>\n",
       "      <th>numero_dpe</th>\n",
       "      <th>usr_diagnostiqueur_id</th>\n",
       "      <th>usr_logiciel_id</th>\n",
       "      <th>tr001_modele_dpe_id</th>\n",
       "      <th>nom_methode_dpe</th>\n",
       "      <th>version_methode_dpe</th>\n",
       "      <th>nom_methode_etude_thermique</th>\n",
       "      <th>version_methode_etude_thermique</th>\n",
       "      <th>date_visite_diagnostiqueur</th>\n",
       "      <th>date_etablissement_dpe</th>\n",
       "      <th>...</th>\n",
       "      <th>surface_baies_orientees_sud</th>\n",
       "      <th>surface_planchers_hauts_deperditifs</th>\n",
       "      <th>surface_planchers_bas_deperditifs</th>\n",
       "      <th>surface_parois_verticales_opaques_deperditives</th>\n",
       "      <th>etat_avancement</th>\n",
       "      <th>organisme_certificateur</th>\n",
       "      <th>adresse_organisme_certificateur</th>\n",
       "      <th>dpe_vierge</th>\n",
       "      <th>est_efface</th>\n",
       "      <th>date_reception_dpe</th>\n",
       "    </tr>\n",
       "    <tr>\n",
       "      <th>id</th>\n",
       "      <th></th>\n",
       "      <th></th>\n",
       "      <th></th>\n",
       "      <th></th>\n",
       "      <th></th>\n",
       "      <th></th>\n",
       "      <th></th>\n",
       "      <th></th>\n",
       "      <th></th>\n",
       "      <th></th>\n",
       "      <th></th>\n",
       "      <th></th>\n",
       "      <th></th>\n",
       "      <th></th>\n",
       "      <th></th>\n",
       "      <th></th>\n",
       "      <th></th>\n",
       "      <th></th>\n",
       "      <th></th>\n",
       "      <th></th>\n",
       "      <th></th>\n",
       "    </tr>\n",
       "  </thead>\n",
       "  <tbody>\n",
       "    <tr>\n",
       "      <th>1</th>\n",
       "      <td>1370V1000001X</td>\n",
       "      <td>1</td>\n",
       "      <td>1</td>\n",
       "      <td>1</td>\n",
       "      <td>3CL - DPE</td>\n",
       "      <td>V2012</td>\n",
       "      <td>NaN</td>\n",
       "      <td>NaN</td>\n",
       "      <td>2013-01-29</td>\n",
       "      <td>2013-01-29</td>\n",
       "      <td>...</td>\n",
       "      <td>0.0</td>\n",
       "      <td>0.0</td>\n",
       "      <td>0.0</td>\n",
       "      <td>0.0</td>\n",
       "      <td>1</td>\n",
       "      <td>Organisme Certificateur</td>\n",
       "      <td>1 rue des organismes 75000 PARIS</td>\n",
       "      <td>0.0</td>\n",
       "      <td>1</td>\n",
       "      <td>2013-04-01 04:00:00</td>\n",
       "    </tr>\n",
       "    <tr>\n",
       "      <th>2</th>\n",
       "      <td>1370V1000002</td>\n",
       "      <td>1</td>\n",
       "      <td>1</td>\n",
       "      <td>1</td>\n",
       "      <td>3CL - DPE</td>\n",
       "      <td>V2012</td>\n",
       "      <td>NaN</td>\n",
       "      <td>NaN</td>\n",
       "      <td>2013-01-29</td>\n",
       "      <td>2013-01-29</td>\n",
       "      <td>...</td>\n",
       "      <td>0.0</td>\n",
       "      <td>0.0</td>\n",
       "      <td>0.0</td>\n",
       "      <td>0.0</td>\n",
       "      <td>0</td>\n",
       "      <td>Organisme Certificateur</td>\n",
       "      <td>1 rue des organismes 75000 PARIS</td>\n",
       "      <td>0.0</td>\n",
       "      <td>1</td>\n",
       "      <td>2013-04-01 04:00:00</td>\n",
       "    </tr>\n",
       "    <tr>\n",
       "      <th>3</th>\n",
       "      <td>1370V1000003</td>\n",
       "      <td>1</td>\n",
       "      <td>1</td>\n",
       "      <td>1</td>\n",
       "      <td>3CL - DPE</td>\n",
       "      <td>V2012</td>\n",
       "      <td>NaN</td>\n",
       "      <td>NaN</td>\n",
       "      <td>2013-01-29</td>\n",
       "      <td>2013-01-29</td>\n",
       "      <td>...</td>\n",
       "      <td>0.0</td>\n",
       "      <td>0.0</td>\n",
       "      <td>0.0</td>\n",
       "      <td>0.0</td>\n",
       "      <td>0</td>\n",
       "      <td>Organisme Certificateur</td>\n",
       "      <td>1 rue des organismes 75000 PARIS</td>\n",
       "      <td>0.0</td>\n",
       "      <td>1</td>\n",
       "      <td>2013-04-01 04:00:00</td>\n",
       "    </tr>\n",
       "    <tr>\n",
       "      <th>4</th>\n",
       "      <td>1393V1000001C</td>\n",
       "      <td>1</td>\n",
       "      <td>5</td>\n",
       "      <td>1</td>\n",
       "      <td>TROIS_CL_DPE</td>\n",
       "      <td>VERSION_2012</td>\n",
       "      <td>NaN</td>\n",
       "      <td>NaN</td>\n",
       "      <td>2013-02-18</td>\n",
       "      <td>2013-03-29</td>\n",
       "      <td>...</td>\n",
       "      <td>0.0</td>\n",
       "      <td>0.0</td>\n",
       "      <td>0.0</td>\n",
       "      <td>0.0</td>\n",
       "      <td>1</td>\n",
       "      <td>iCert</td>\n",
       "      <td>118, bis rue eugene POTTIER</td>\n",
       "      <td>0.0</td>\n",
       "      <td>1</td>\n",
       "      <td>2013-03-29 04:00:00</td>\n",
       "    </tr>\n",
       "    <tr>\n",
       "      <th>5</th>\n",
       "      <td>1370V1000004A</td>\n",
       "      <td>1</td>\n",
       "      <td>5</td>\n",
       "      <td>1</td>\n",
       "      <td>TROIS_CL_DPE</td>\n",
       "      <td>VERSION_2012</td>\n",
       "      <td>NaN</td>\n",
       "      <td>NaN</td>\n",
       "      <td>2013-03-25</td>\n",
       "      <td>2013-03-29</td>\n",
       "      <td>...</td>\n",
       "      <td>0.0</td>\n",
       "      <td>0.0</td>\n",
       "      <td>0.0</td>\n",
       "      <td>0.0</td>\n",
       "      <td>1</td>\n",
       "      <td>iCert</td>\n",
       "      <td>118 bis rue eugene pottier</td>\n",
       "      <td>0.0</td>\n",
       "      <td>1</td>\n",
       "      <td>2013-03-29 04:00:00</td>\n",
       "    </tr>\n",
       "  </tbody>\n",
       "</table>\n",
       "<p>5 rows × 66 columns</p>\n",
       "</div>"
      ],
      "text/plain": [
       "       numero_dpe  usr_diagnostiqueur_id  usr_logiciel_id  \\\n",
       "id                                                          \n",
       "1   1370V1000001X                      1                1   \n",
       "2    1370V1000002                      1                1   \n",
       "3    1370V1000003                      1                1   \n",
       "4   1393V1000001C                      1                5   \n",
       "5   1370V1000004A                      1                5   \n",
       "\n",
       "    tr001_modele_dpe_id nom_methode_dpe version_methode_dpe  \\\n",
       "id                                                            \n",
       "1                     1       3CL - DPE               V2012   \n",
       "2                     1       3CL - DPE               V2012   \n",
       "3                     1       3CL - DPE               V2012   \n",
       "4                     1    TROIS_CL_DPE        VERSION_2012   \n",
       "5                     1    TROIS_CL_DPE        VERSION_2012   \n",
       "\n",
       "   nom_methode_etude_thermique version_methode_etude_thermique  \\\n",
       "id                                                               \n",
       "1                          NaN                             NaN   \n",
       "2                          NaN                             NaN   \n",
       "3                          NaN                             NaN   \n",
       "4                          NaN                             NaN   \n",
       "5                          NaN                             NaN   \n",
       "\n",
       "   date_visite_diagnostiqueur date_etablissement_dpe  ...  \\\n",
       "id                                                    ...   \n",
       "1                  2013-01-29             2013-01-29  ...   \n",
       "2                  2013-01-29             2013-01-29  ...   \n",
       "3                  2013-01-29             2013-01-29  ...   \n",
       "4                  2013-02-18             2013-03-29  ...   \n",
       "5                  2013-03-25             2013-03-29  ...   \n",
       "\n",
       "   surface_baies_orientees_sud surface_planchers_hauts_deperditifs  \\\n",
       "id                                                                   \n",
       "1                          0.0                                 0.0   \n",
       "2                          0.0                                 0.0   \n",
       "3                          0.0                                 0.0   \n",
       "4                          0.0                                 0.0   \n",
       "5                          0.0                                 0.0   \n",
       "\n",
       "   surface_planchers_bas_deperditifs  \\\n",
       "id                                     \n",
       "1                                0.0   \n",
       "2                                0.0   \n",
       "3                                0.0   \n",
       "4                                0.0   \n",
       "5                                0.0   \n",
       "\n",
       "    surface_parois_verticales_opaques_deperditives etat_avancement  \\\n",
       "id                                                                   \n",
       "1                                              0.0               1   \n",
       "2                                              0.0               0   \n",
       "3                                              0.0               0   \n",
       "4                                              0.0               1   \n",
       "5                                              0.0               1   \n",
       "\n",
       "    organisme_certificateur   adresse_organisme_certificateur  dpe_vierge  \\\n",
       "id                                                                          \n",
       "1   Organisme Certificateur  1 rue des organismes 75000 PARIS         0.0   \n",
       "2   Organisme Certificateur  1 rue des organismes 75000 PARIS         0.0   \n",
       "3   Organisme Certificateur  1 rue des organismes 75000 PARIS         0.0   \n",
       "4                     iCert       118, bis rue eugene POTTIER         0.0   \n",
       "5                     iCert        118 bis rue eugene pottier         0.0   \n",
       "\n",
       "   est_efface   date_reception_dpe  \n",
       "id                                  \n",
       "1           1  2013-04-01 04:00:00  \n",
       "2           1  2013-04-01 04:00:00  \n",
       "3           1  2013-04-01 04:00:00  \n",
       "4           1  2013-03-29 04:00:00  \n",
       "5           1  2013-03-29 04:00:00  \n",
       "\n",
       "[5 rows x 66 columns]"
      ]
     },
     "execution_count": 3,
     "metadata": {},
     "output_type": "execute_result"
    }
   ],
   "source": [
    "data.head()"
   ]
  },
  {
   "cell_type": "code",
   "execution_count": 4,
   "metadata": {},
   "outputs": [
    {
     "data": {
      "text/plain": [
       "(9431420, 66)"
      ]
     },
     "execution_count": 4,
     "metadata": {},
     "output_type": "execute_result"
    }
   ],
   "source": [
    "data.shape"
   ]
  },
  {
   "cell_type": "code",
   "execution_count": 5,
   "metadata": {},
   "outputs": [
    {
     "data": {
      "text/plain": [
       "Index(['numero_dpe', 'usr_diagnostiqueur_id', 'usr_logiciel_id',\n",
       "       'tr001_modele_dpe_id', 'nom_methode_dpe', 'version_methode_dpe',\n",
       "       'nom_methode_etude_thermique', 'version_methode_etude_thermique',\n",
       "       'date_visite_diagnostiqueur', 'date_etablissement_dpe',\n",
       "       'date_arrete_tarifs_energies',\n",
       "       'commentaires_ameliorations_recommandations',\n",
       "       'explication_personnalisee', 'consommation_energie',\n",
       "       'classe_consommation_energie', 'estimation_ges',\n",
       "       'classe_estimation_ges', 'tr002_type_batiment_id', 'secteur_activite',\n",
       "       'tr012_categorie_erp_id', 'tr013_type_erp_id', 'annee_construction',\n",
       "       'surface_habitable', 'surface_thermique_lot', 'tv016_departement_id',\n",
       "       'commune', 'arrondissement', 'type_voie', 'nom_rue', 'numero_rue',\n",
       "       'batiment', 'escalier', 'etage', 'porte', 'code_postal',\n",
       "       'code_insee_commune', 'code_insee_commune_actualise', 'numero_lot',\n",
       "       'surface_commerciale_contractuelle', 'portee_dpe_batiment',\n",
       "       'partie_batiment', 'shon', 'surface_utile',\n",
       "       'surface_thermique_parties_communes', 'en_souterrain', 'en_surface',\n",
       "       'nombre_niveaux', 'nombre_circulations_verticales', 'nombre_boutiques',\n",
       "       'presence_verriere', 'surface_verriere', 'type_vitrage_verriere',\n",
       "       'nombre_entrees_avec_sas', 'nombre_entrees_sans_sas',\n",
       "       'surface_baies_orientees_nord', 'surface_baies_orientees_est_ouest',\n",
       "       'surface_baies_orientees_sud', 'surface_planchers_hauts_deperditifs',\n",
       "       'surface_planchers_bas_deperditifs',\n",
       "       'surface_parois_verticales_opaques_deperditives', 'etat_avancement',\n",
       "       'organisme_certificateur', 'adresse_organisme_certificateur',\n",
       "       'dpe_vierge', 'est_efface', 'date_reception_dpe'],\n",
       "      dtype='object')"
      ]
     },
     "execution_count": 5,
     "metadata": {},
     "output_type": "execute_result"
    }
   ],
   "source": [
    "data.columns"
   ]
  },
  {
   "cell_type": "code",
   "execution_count": 6,
   "metadata": {},
   "outputs": [],
   "source": [
    "dep = data['tv016_departement_id'].unique()"
   ]
  },
  {
   "cell_type": "code",
   "execution_count": 7,
   "metadata": {},
   "outputs": [
    {
     "data": {
      "text/plain": [
       "array([70, 93, 49, 90, 29, 22, 95, 57, 17, 87,  6, 77, 54, 79, 13, 44, 80,\n",
       "       92, 45, 16, 23, 83, 75, 91, 21, 31, 76, 86, 34, 78, 37, 88, 74, 69,\n",
       "       33, 42, 64, 25,  7,  1, 30, 56, 35, 94, 65, 62, 85, 26, 43, 28, 50,\n",
       "       59, 38, 63, 60, 72, 14, 84, 41, 68, 11, 55, 66, 82, 53, 61, 51, 32,\n",
       "       67, 40,  9, 47, 71, 48, 27,  8,  2,  3, 73, 36, 18, 52,  5, 96, 89,\n",
       "       81, 58, 97, 24, 10, 46,  4, 39, 12, 19, 15])"
      ]
     },
     "execution_count": 7,
     "metadata": {},
     "output_type": "execute_result"
    }
   ],
   "source": [
    "dep"
   ]
  },
  {
   "cell_type": "code",
   "execution_count": 8,
   "metadata": {},
   "outputs": [
    {
     "data": {
      "text/plain": [
       "96"
      ]
     },
     "execution_count": 8,
     "metadata": {},
     "output_type": "execute_result"
    }
   ],
   "source": [
    "len(dep)"
   ]
  },
  {
   "cell_type": "code",
   "execution_count": 9,
   "metadata": {},
   "outputs": [
    {
     "data": {
      "text/plain": [
       "59    338968\n",
       "69    315914\n",
       "13    313876\n",
       "75    313725\n",
       "33    258553\n",
       "       ...  \n",
       "15     17299\n",
       "23     15823\n",
       "97     14566\n",
       "96     14038\n",
       "48      5694\n",
       "Name: tv016_departement_id, Length: 96, dtype: int64"
      ]
     },
     "execution_count": 9,
     "metadata": {},
     "output_type": "execute_result"
    }
   ],
   "source": [
    "data['tv016_departement_id'].value_counts()"
   ]
  },
  {
   "cell_type": "markdown",
   "metadata": {},
   "source": [
    "#### Look for problematic columns"
   ]
  },
  {
   "cell_type": "code",
   "execution_count": 10,
   "metadata": {},
   "outputs": [
    {
     "data": {
      "text/plain": [
       "id\n",
       "4230739    3 RUE DES TISSERANDS\\r\\nLOT 034\n",
       "Name: nom_rue, dtype: object"
      ]
     },
     "execution_count": 10,
     "metadata": {},
     "output_type": "execute_result"
    }
   ],
   "source": [
    "data.loc[data['numero_dpe'] == '1727L2000029N'].nom_rue"
   ]
  },
  {
   "cell_type": "markdown",
   "metadata": {},
   "source": [
    "'\\r' is problematic when exporting data"
   ]
  },
  {
   "cell_type": "code",
   "execution_count": 11,
   "metadata": {},
   "outputs": [
    {
     "data": {
      "text/plain": [
       "(217158, 66)"
      ]
     },
     "execution_count": 11,
     "metadata": {},
     "output_type": "execute_result"
    }
   ],
   "source": [
    "df_rue = data[data['nom_rue'].str.contains('\\r', na=False)]\n",
    "df_rue.shape"
   ]
  },
  {
   "cell_type": "code",
   "execution_count": 12,
   "metadata": {},
   "outputs": [
    {
     "data": {
      "text/plain": [
       "(45, 66)"
      ]
     },
     "execution_count": 12,
     "metadata": {},
     "output_type": "execute_result"
    }
   ],
   "source": [
    "df_orga = data[data['organisme_certificateur'].str.contains(r'\\r', na=False)]\n",
    "df_orga.shape"
   ]
  },
  {
   "cell_type": "code",
   "execution_count": 13,
   "metadata": {},
   "outputs": [
    {
     "data": {
      "text/plain": [
       "(461529, 66)"
      ]
     },
     "execution_count": 13,
     "metadata": {},
     "output_type": "execute_result"
    }
   ],
   "source": [
    "df_adr = data[data['adresse_organisme_certificateur'].str.contains(r'\\r', na=False)]\n",
    "df_adr.shape"
   ]
  },
  {
   "cell_type": "code",
   "execution_count": 14,
   "metadata": {},
   "outputs": [
    {
     "data": {
      "text/plain": [
       "(20, 66)"
      ]
     },
     "execution_count": 14,
     "metadata": {},
     "output_type": "execute_result"
    }
   ],
   "source": [
    "df_commune = data[data['commune'].str.contains('\\r', na=False)]\n",
    "df_commune.shape"
   ]
  },
  {
   "cell_type": "markdown",
   "metadata": {},
   "source": [
    "#### Get rid of '\\r' in string columns"
   ]
  },
  {
   "cell_type": "code",
   "execution_count": null,
   "metadata": {},
   "outputs": [],
   "source": [
    "#data['nom_rue'] = data['nom_rue'].str.replace(r'\\r',' ')\n",
    "#data['organisme_certificateur'] = data['organisme_certificateur'].str.replace(r'\\r',' ')\n",
    "#data['adresse_organisme_certificateur'] = data['adresse_organisme_certificateur'].str.replace(r'\\r',' ')"
   ]
  },
  {
   "cell_type": "code",
   "execution_count": 15,
   "metadata": {},
   "outputs": [
    {
     "data": {
      "text/plain": [
       "(9431420, 66)"
      ]
     },
     "execution_count": 15,
     "metadata": {},
     "output_type": "execute_result"
    }
   ],
   "source": [
    "df_clean = data.replace({'\\r': ' '}, regex=True)\n",
    "df_clean.shape"
   ]
  },
  {
   "cell_type": "markdown",
   "metadata": {},
   "source": [
    "Check if it worked!"
   ]
  },
  {
   "cell_type": "code",
   "execution_count": 16,
   "metadata": {},
   "outputs": [
    {
     "data": {
      "text/plain": [
       "id\n",
       "4230739    3 RUE DES TISSERANDS \\nLOT 034\n",
       "Name: nom_rue, dtype: object"
      ]
     },
     "execution_count": 16,
     "metadata": {},
     "output_type": "execute_result"
    }
   ],
   "source": [
    "df_clean.loc[df_clean['numero_dpe'] == '1727L2000029N'].nom_rue"
   ]
  },
  {
   "cell_type": "code",
   "execution_count": 18,
   "metadata": {},
   "outputs": [
    {
     "data": {
      "text/plain": [
       "(0, 66)"
      ]
     },
     "execution_count": 18,
     "metadata": {},
     "output_type": "execute_result"
    }
   ],
   "source": [
    "df_rue = df_clean[df_clean['nom_rue'].str.contains('\\r', na=False)]\n",
    "df_rue.shape"
   ]
  },
  {
   "cell_type": "markdown",
   "metadata": {},
   "source": [
    "#### Select sample 5%"
   ]
  },
  {
   "cell_type": "code",
   "execution_count": 19,
   "metadata": {},
   "outputs": [],
   "source": [
    "sample = df_clean.sample(frac = 0.05, random_state = 1) "
   ]
  },
  {
   "cell_type": "code",
   "execution_count": 20,
   "metadata": {},
   "outputs": [
    {
     "data": {
      "text/plain": [
       "(471571, 66)"
      ]
     },
     "execution_count": 20,
     "metadata": {},
     "output_type": "execute_result"
    }
   ],
   "source": [
    "sample.shape"
   ]
  },
  {
   "cell_type": "code",
   "execution_count": 21,
   "metadata": {},
   "outputs": [
    {
     "data": {
      "text/html": [
       "<div>\n",
       "<style scoped>\n",
       "    .dataframe tbody tr th:only-of-type {\n",
       "        vertical-align: middle;\n",
       "    }\n",
       "\n",
       "    .dataframe tbody tr th {\n",
       "        vertical-align: top;\n",
       "    }\n",
       "\n",
       "    .dataframe thead th {\n",
       "        text-align: right;\n",
       "    }\n",
       "</style>\n",
       "<table border=\"1\" class=\"dataframe\">\n",
       "  <thead>\n",
       "    <tr style=\"text-align: right;\">\n",
       "      <th></th>\n",
       "      <th>numero_dpe</th>\n",
       "      <th>usr_diagnostiqueur_id</th>\n",
       "      <th>usr_logiciel_id</th>\n",
       "      <th>tr001_modele_dpe_id</th>\n",
       "      <th>nom_methode_dpe</th>\n",
       "      <th>version_methode_dpe</th>\n",
       "      <th>nom_methode_etude_thermique</th>\n",
       "      <th>version_methode_etude_thermique</th>\n",
       "      <th>date_visite_diagnostiqueur</th>\n",
       "      <th>date_etablissement_dpe</th>\n",
       "      <th>...</th>\n",
       "      <th>surface_baies_orientees_sud</th>\n",
       "      <th>surface_planchers_hauts_deperditifs</th>\n",
       "      <th>surface_planchers_bas_deperditifs</th>\n",
       "      <th>surface_parois_verticales_opaques_deperditives</th>\n",
       "      <th>etat_avancement</th>\n",
       "      <th>organisme_certificateur</th>\n",
       "      <th>adresse_organisme_certificateur</th>\n",
       "      <th>dpe_vierge</th>\n",
       "      <th>est_efface</th>\n",
       "      <th>date_reception_dpe</th>\n",
       "    </tr>\n",
       "    <tr>\n",
       "      <th>id</th>\n",
       "      <th></th>\n",
       "      <th></th>\n",
       "      <th></th>\n",
       "      <th></th>\n",
       "      <th></th>\n",
       "      <th></th>\n",
       "      <th></th>\n",
       "      <th></th>\n",
       "      <th></th>\n",
       "      <th></th>\n",
       "      <th></th>\n",
       "      <th></th>\n",
       "      <th></th>\n",
       "      <th></th>\n",
       "      <th></th>\n",
       "      <th></th>\n",
       "      <th></th>\n",
       "      <th></th>\n",
       "      <th></th>\n",
       "      <th></th>\n",
       "      <th></th>\n",
       "    </tr>\n",
       "  </thead>\n",
       "  <tbody>\n",
       "    <tr>\n",
       "      <th>6425993</th>\n",
       "      <td>1857I1000025J</td>\n",
       "      <td>15559</td>\n",
       "      <td>6</td>\n",
       "      <td>22</td>\n",
       "      <td>3CL</td>\n",
       "      <td>2012</td>\n",
       "      <td>NaN</td>\n",
       "      <td>NaN</td>\n",
       "      <td>2018-06-25</td>\n",
       "      <td>2018-06-25</td>\n",
       "      <td>...</td>\n",
       "      <td>3.38</td>\n",
       "      <td>22.00</td>\n",
       "      <td>22.00</td>\n",
       "      <td>12.03</td>\n",
       "      <td>1</td>\n",
       "      <td>ITGA</td>\n",
       "      <td>test</td>\n",
       "      <td>0.0</td>\n",
       "      <td>0</td>\n",
       "      <td>2018-06-25 16:19:54</td>\n",
       "    </tr>\n",
       "    <tr>\n",
       "      <th>865512</th>\n",
       "      <td>1491V1002160J</td>\n",
       "      <td>9498</td>\n",
       "      <td>13</td>\n",
       "      <td>1</td>\n",
       "      <td>3CL - DPE</td>\n",
       "      <td>V2012</td>\n",
       "      <td>NaN</td>\n",
       "      <td>NaN</td>\n",
       "      <td>2014-04-11</td>\n",
       "      <td>2014-04-11</td>\n",
       "      <td>...</td>\n",
       "      <td>0.00</td>\n",
       "      <td>0.00</td>\n",
       "      <td>0.00</td>\n",
       "      <td>0.00</td>\n",
       "      <td>1</td>\n",
       "      <td>BUREAU_VERITAS Certification</td>\n",
       "      <td>60 Avenue du Général de Gaulle , 92046 PARIS L...</td>\n",
       "      <td>0.0</td>\n",
       "      <td>0</td>\n",
       "      <td>2014-04-13 16:11:26</td>\n",
       "    </tr>\n",
       "    <tr>\n",
       "      <th>4999367</th>\n",
       "      <td>1738L1001445R</td>\n",
       "      <td>16598</td>\n",
       "      <td>3</td>\n",
       "      <td>9</td>\n",
       "      <td>Méthode 3CL</td>\n",
       "      <td>3CL-DPE, version 1.3</td>\n",
       "      <td>NaN</td>\n",
       "      <td>NaN</td>\n",
       "      <td>2017-07-06</td>\n",
       "      <td>2017-07-17</td>\n",
       "      <td>...</td>\n",
       "      <td>0.00</td>\n",
       "      <td>47.97</td>\n",
       "      <td>41.78</td>\n",
       "      <td>87.19</td>\n",
       "      <td>1</td>\n",
       "      <td>ABCIDIA CERTIFICATION</td>\n",
       "      <td>4 route de la Noue 91190 GIF SUR YVETTE</td>\n",
       "      <td>0.0</td>\n",
       "      <td>0</td>\n",
       "      <td>2017-07-17 15:24:28</td>\n",
       "    </tr>\n",
       "    <tr>\n",
       "      <th>3754114</th>\n",
       "      <td>1675L2006376A</td>\n",
       "      <td>734</td>\n",
       "      <td>3</td>\n",
       "      <td>10</td>\n",
       "      <td>Méthode Facture</td>\n",
       "      <td>NaN</td>\n",
       "      <td>NaN</td>\n",
       "      <td>NaN</td>\n",
       "      <td>2016-08-29</td>\n",
       "      <td>2016-08-29</td>\n",
       "      <td>...</td>\n",
       "      <td>0.00</td>\n",
       "      <td>0.00</td>\n",
       "      <td>0.00</td>\n",
       "      <td>0.00</td>\n",
       "      <td>1</td>\n",
       "      <td>VERITAS, 60, avenue Charles De GAULLE, 92046 P...</td>\n",
       "      <td>Le Guillaumet 92046 PARIS LA DEFENSE CEDEX</td>\n",
       "      <td>0.0</td>\n",
       "      <td>0</td>\n",
       "      <td>2016-08-29 09:47:46</td>\n",
       "    </tr>\n",
       "    <tr>\n",
       "      <th>7853528</th>\n",
       "      <td>1927L1000454Q</td>\n",
       "      <td>19993</td>\n",
       "      <td>3</td>\n",
       "      <td>9</td>\n",
       "      <td>Méthode 3CL</td>\n",
       "      <td>3CL-DPE, version 1.3</td>\n",
       "      <td>NaN</td>\n",
       "      <td>NaN</td>\n",
       "      <td>2019-02-19</td>\n",
       "      <td>2019-02-19</td>\n",
       "      <td>...</td>\n",
       "      <td>6.15</td>\n",
       "      <td>41.00</td>\n",
       "      <td>41.00</td>\n",
       "      <td>150.00</td>\n",
       "      <td>1</td>\n",
       "      <td>LCC QUALIXPERT</td>\n",
       "      <td>17 rue Borrel 81100 CASTRES</td>\n",
       "      <td>0.0</td>\n",
       "      <td>0</td>\n",
       "      <td>2019-04-24 12:21:56</td>\n",
       "    </tr>\n",
       "  </tbody>\n",
       "</table>\n",
       "<p>5 rows × 66 columns</p>\n",
       "</div>"
      ],
      "text/plain": [
       "            numero_dpe  usr_diagnostiqueur_id  usr_logiciel_id  \\\n",
       "id                                                               \n",
       "6425993  1857I1000025J                  15559                6   \n",
       "865512   1491V1002160J                   9498               13   \n",
       "4999367  1738L1001445R                  16598                3   \n",
       "3754114  1675L2006376A                    734                3   \n",
       "7853528  1927L1000454Q                  19993                3   \n",
       "\n",
       "         tr001_modele_dpe_id  nom_methode_dpe   version_methode_dpe  \\\n",
       "id                                                                    \n",
       "6425993                   22              3CL                  2012   \n",
       "865512                     1        3CL - DPE                 V2012   \n",
       "4999367                    9      Méthode 3CL  3CL-DPE, version 1.3   \n",
       "3754114                   10  Méthode Facture                   NaN   \n",
       "7853528                    9      Méthode 3CL  3CL-DPE, version 1.3   \n",
       "\n",
       "        nom_methode_etude_thermique version_methode_etude_thermique  \\\n",
       "id                                                                    \n",
       "6425993                         NaN                             NaN   \n",
       "865512                          NaN                             NaN   \n",
       "4999367                         NaN                             NaN   \n",
       "3754114                         NaN                             NaN   \n",
       "7853528                         NaN                             NaN   \n",
       "\n",
       "        date_visite_diagnostiqueur date_etablissement_dpe  ...  \\\n",
       "id                                                         ...   \n",
       "6425993                 2018-06-25             2018-06-25  ...   \n",
       "865512                  2014-04-11             2014-04-11  ...   \n",
       "4999367                 2017-07-06             2017-07-17  ...   \n",
       "3754114                 2016-08-29             2016-08-29  ...   \n",
       "7853528                 2019-02-19             2019-02-19  ...   \n",
       "\n",
       "        surface_baies_orientees_sud surface_planchers_hauts_deperditifs  \\\n",
       "id                                                                        \n",
       "6425993                        3.38                               22.00   \n",
       "865512                         0.00                                0.00   \n",
       "4999367                        0.00                               47.97   \n",
       "3754114                        0.00                                0.00   \n",
       "7853528                        6.15                               41.00   \n",
       "\n",
       "        surface_planchers_bas_deperditifs  \\\n",
       "id                                          \n",
       "6425993                             22.00   \n",
       "865512                               0.00   \n",
       "4999367                             41.78   \n",
       "3754114                              0.00   \n",
       "7853528                             41.00   \n",
       "\n",
       "         surface_parois_verticales_opaques_deperditives etat_avancement  \\\n",
       "id                                                                        \n",
       "6425993                                           12.03               1   \n",
       "865512                                             0.00               1   \n",
       "4999367                                           87.19               1   \n",
       "3754114                                            0.00               1   \n",
       "7853528                                          150.00               1   \n",
       "\n",
       "                                   organisme_certificateur  \\\n",
       "id                                                           \n",
       "6425993                                               ITGA   \n",
       "865512                        BUREAU_VERITAS Certification   \n",
       "4999367                              ABCIDIA CERTIFICATION   \n",
       "3754114  VERITAS, 60, avenue Charles De GAULLE, 92046 P...   \n",
       "7853528                                     LCC QUALIXPERT   \n",
       "\n",
       "                           adresse_organisme_certificateur  dpe_vierge  \\\n",
       "id                                                                       \n",
       "6425993                                               test         0.0   \n",
       "865512   60 Avenue du Général de Gaulle , 92046 PARIS L...         0.0   \n",
       "4999367            4 route de la Noue 91190 GIF SUR YVETTE         0.0   \n",
       "3754114         Le Guillaumet 92046 PARIS LA DEFENSE CEDEX         0.0   \n",
       "7853528                        17 rue Borrel 81100 CASTRES         0.0   \n",
       "\n",
       "        est_efface   date_reception_dpe  \n",
       "id                                       \n",
       "6425993          0  2018-06-25 16:19:54  \n",
       "865512           0  2014-04-13 16:11:26  \n",
       "4999367          0  2017-07-17 15:24:28  \n",
       "3754114          0  2016-08-29 09:47:46  \n",
       "7853528          0  2019-04-24 12:21:56  \n",
       "\n",
       "[5 rows x 66 columns]"
      ]
     },
     "execution_count": 21,
     "metadata": {},
     "output_type": "execute_result"
    }
   ],
   "source": [
    "sample.head()"
   ]
  },
  {
   "cell_type": "code",
   "execution_count": 23,
   "metadata": {},
   "outputs": [],
   "source": [
    "sample.to_csv(r'/Users/hajaraitelkadi/Downloads/CodeLab-DPE/france-entiere/dpe_5.csv',index = False)"
   ]
  },
  {
   "cell_type": "markdown",
   "metadata": {},
   "source": [
    "#### Check sample"
   ]
  },
  {
   "cell_type": "code",
   "execution_count": 24,
   "metadata": {},
   "outputs": [
    {
     "name": "stderr",
     "output_type": "stream",
     "text": [
      "/Users/hajaraitelkadi/opt/anaconda3/lib/python3.8/site-packages/IPython/core/interactiveshell.py:3071: DtypeWarning: Columns (38,51) have mixed types.Specify dtype option on import or set low_memory=False.\n",
      "  has_raised = await self.run_ast_nodes(code_ast.body, cell_name,\n"
     ]
    }
   ],
   "source": [
    "df_sample = pd.read_csv(\"/Users/hajaraitelkadi/Downloads/CodeLab-DPE/france-entiere/dpe_5.csv\")"
   ]
  },
  {
   "cell_type": "code",
   "execution_count": 25,
   "metadata": {},
   "outputs": [
    {
     "data": {
      "text/plain": [
       "(471571, 66)"
      ]
     },
     "execution_count": 25,
     "metadata": {},
     "output_type": "execute_result"
    }
   ],
   "source": [
    "df_sample.shape"
   ]
  },
  {
   "cell_type": "code",
   "execution_count": 26,
   "metadata": {},
   "outputs": [
    {
     "data": {
      "text/html": [
       "<div>\n",
       "<style scoped>\n",
       "    .dataframe tbody tr th:only-of-type {\n",
       "        vertical-align: middle;\n",
       "    }\n",
       "\n",
       "    .dataframe tbody tr th {\n",
       "        vertical-align: top;\n",
       "    }\n",
       "\n",
       "    .dataframe thead th {\n",
       "        text-align: right;\n",
       "    }\n",
       "</style>\n",
       "<table border=\"1\" class=\"dataframe\">\n",
       "  <thead>\n",
       "    <tr style=\"text-align: right;\">\n",
       "      <th></th>\n",
       "      <th>numero_dpe</th>\n",
       "      <th>usr_diagnostiqueur_id</th>\n",
       "      <th>usr_logiciel_id</th>\n",
       "      <th>tr001_modele_dpe_id</th>\n",
       "      <th>nom_methode_dpe</th>\n",
       "      <th>version_methode_dpe</th>\n",
       "      <th>nom_methode_etude_thermique</th>\n",
       "      <th>version_methode_etude_thermique</th>\n",
       "      <th>date_visite_diagnostiqueur</th>\n",
       "      <th>date_etablissement_dpe</th>\n",
       "      <th>...</th>\n",
       "      <th>surface_baies_orientees_sud</th>\n",
       "      <th>surface_planchers_hauts_deperditifs</th>\n",
       "      <th>surface_planchers_bas_deperditifs</th>\n",
       "      <th>surface_parois_verticales_opaques_deperditives</th>\n",
       "      <th>etat_avancement</th>\n",
       "      <th>organisme_certificateur</th>\n",
       "      <th>adresse_organisme_certificateur</th>\n",
       "      <th>dpe_vierge</th>\n",
       "      <th>est_efface</th>\n",
       "      <th>date_reception_dpe</th>\n",
       "    </tr>\n",
       "  </thead>\n",
       "  <tbody>\n",
       "    <tr>\n",
       "      <th>0</th>\n",
       "      <td>1857I1000025J</td>\n",
       "      <td>15559</td>\n",
       "      <td>6</td>\n",
       "      <td>22</td>\n",
       "      <td>3CL</td>\n",
       "      <td>2012</td>\n",
       "      <td>NaN</td>\n",
       "      <td>NaN</td>\n",
       "      <td>2018-06-25</td>\n",
       "      <td>2018-06-25</td>\n",
       "      <td>...</td>\n",
       "      <td>3.38</td>\n",
       "      <td>22.00</td>\n",
       "      <td>22.00</td>\n",
       "      <td>12.03</td>\n",
       "      <td>1</td>\n",
       "      <td>ITGA</td>\n",
       "      <td>test</td>\n",
       "      <td>0.0</td>\n",
       "      <td>0</td>\n",
       "      <td>2018-06-25 16:19:54</td>\n",
       "    </tr>\n",
       "    <tr>\n",
       "      <th>1</th>\n",
       "      <td>1491V1002160J</td>\n",
       "      <td>9498</td>\n",
       "      <td>13</td>\n",
       "      <td>1</td>\n",
       "      <td>3CL - DPE</td>\n",
       "      <td>V2012</td>\n",
       "      <td>NaN</td>\n",
       "      <td>NaN</td>\n",
       "      <td>2014-04-11</td>\n",
       "      <td>2014-04-11</td>\n",
       "      <td>...</td>\n",
       "      <td>0.00</td>\n",
       "      <td>0.00</td>\n",
       "      <td>0.00</td>\n",
       "      <td>0.00</td>\n",
       "      <td>1</td>\n",
       "      <td>BUREAU_VERITAS Certification</td>\n",
       "      <td>60 Avenue du Général de Gaulle , 92046 PARIS L...</td>\n",
       "      <td>0.0</td>\n",
       "      <td>0</td>\n",
       "      <td>2014-04-13 16:11:26</td>\n",
       "    </tr>\n",
       "    <tr>\n",
       "      <th>2</th>\n",
       "      <td>1738L1001445R</td>\n",
       "      <td>16598</td>\n",
       "      <td>3</td>\n",
       "      <td>9</td>\n",
       "      <td>Méthode 3CL</td>\n",
       "      <td>3CL-DPE, version 1.3</td>\n",
       "      <td>NaN</td>\n",
       "      <td>NaN</td>\n",
       "      <td>2017-07-06</td>\n",
       "      <td>2017-07-17</td>\n",
       "      <td>...</td>\n",
       "      <td>0.00</td>\n",
       "      <td>47.97</td>\n",
       "      <td>41.78</td>\n",
       "      <td>87.19</td>\n",
       "      <td>1</td>\n",
       "      <td>ABCIDIA CERTIFICATION</td>\n",
       "      <td>4 route de la Noue 91190 GIF SUR YVETTE</td>\n",
       "      <td>0.0</td>\n",
       "      <td>0</td>\n",
       "      <td>2017-07-17 15:24:28</td>\n",
       "    </tr>\n",
       "    <tr>\n",
       "      <th>3</th>\n",
       "      <td>1675L2006376A</td>\n",
       "      <td>734</td>\n",
       "      <td>3</td>\n",
       "      <td>10</td>\n",
       "      <td>Méthode Facture</td>\n",
       "      <td>NaN</td>\n",
       "      <td>NaN</td>\n",
       "      <td>NaN</td>\n",
       "      <td>2016-08-29</td>\n",
       "      <td>2016-08-29</td>\n",
       "      <td>...</td>\n",
       "      <td>0.00</td>\n",
       "      <td>0.00</td>\n",
       "      <td>0.00</td>\n",
       "      <td>0.00</td>\n",
       "      <td>1</td>\n",
       "      <td>VERITAS, 60, avenue Charles De GAULLE, 92046 P...</td>\n",
       "      <td>Le Guillaumet 92046 PARIS LA DEFENSE CEDEX</td>\n",
       "      <td>0.0</td>\n",
       "      <td>0</td>\n",
       "      <td>2016-08-29 09:47:46</td>\n",
       "    </tr>\n",
       "    <tr>\n",
       "      <th>4</th>\n",
       "      <td>1927L1000454Q</td>\n",
       "      <td>19993</td>\n",
       "      <td>3</td>\n",
       "      <td>9</td>\n",
       "      <td>Méthode 3CL</td>\n",
       "      <td>3CL-DPE, version 1.3</td>\n",
       "      <td>NaN</td>\n",
       "      <td>NaN</td>\n",
       "      <td>2019-02-19</td>\n",
       "      <td>2019-02-19</td>\n",
       "      <td>...</td>\n",
       "      <td>6.15</td>\n",
       "      <td>41.00</td>\n",
       "      <td>41.00</td>\n",
       "      <td>150.00</td>\n",
       "      <td>1</td>\n",
       "      <td>LCC QUALIXPERT</td>\n",
       "      <td>17 rue Borrel 81100 CASTRES</td>\n",
       "      <td>0.0</td>\n",
       "      <td>0</td>\n",
       "      <td>2019-04-24 12:21:56</td>\n",
       "    </tr>\n",
       "  </tbody>\n",
       "</table>\n",
       "<p>5 rows × 66 columns</p>\n",
       "</div>"
      ],
      "text/plain": [
       "      numero_dpe  usr_diagnostiqueur_id  usr_logiciel_id  tr001_modele_dpe_id  \\\n",
       "0  1857I1000025J                  15559                6                   22   \n",
       "1  1491V1002160J                   9498               13                    1   \n",
       "2  1738L1001445R                  16598                3                    9   \n",
       "3  1675L2006376A                    734                3                   10   \n",
       "4  1927L1000454Q                  19993                3                    9   \n",
       "\n",
       "   nom_methode_dpe   version_methode_dpe nom_methode_etude_thermique  \\\n",
       "0              3CL                  2012                         NaN   \n",
       "1        3CL - DPE                 V2012                         NaN   \n",
       "2      Méthode 3CL  3CL-DPE, version 1.3                         NaN   \n",
       "3  Méthode Facture                   NaN                         NaN   \n",
       "4      Méthode 3CL  3CL-DPE, version 1.3                         NaN   \n",
       "\n",
       "  version_methode_etude_thermique date_visite_diagnostiqueur  \\\n",
       "0                             NaN                 2018-06-25   \n",
       "1                             NaN                 2014-04-11   \n",
       "2                             NaN                 2017-07-06   \n",
       "3                             NaN                 2016-08-29   \n",
       "4                             NaN                 2019-02-19   \n",
       "\n",
       "  date_etablissement_dpe  ... surface_baies_orientees_sud  \\\n",
       "0             2018-06-25  ...                        3.38   \n",
       "1             2014-04-11  ...                        0.00   \n",
       "2             2017-07-17  ...                        0.00   \n",
       "3             2016-08-29  ...                        0.00   \n",
       "4             2019-02-19  ...                        6.15   \n",
       "\n",
       "  surface_planchers_hauts_deperditifs surface_planchers_bas_deperditifs  \\\n",
       "0                               22.00                             22.00   \n",
       "1                                0.00                              0.00   \n",
       "2                               47.97                             41.78   \n",
       "3                                0.00                              0.00   \n",
       "4                               41.00                             41.00   \n",
       "\n",
       "   surface_parois_verticales_opaques_deperditives etat_avancement  \\\n",
       "0                                           12.03               1   \n",
       "1                                            0.00               1   \n",
       "2                                           87.19               1   \n",
       "3                                            0.00               1   \n",
       "4                                          150.00               1   \n",
       "\n",
       "                             organisme_certificateur  \\\n",
       "0                                               ITGA   \n",
       "1                       BUREAU_VERITAS Certification   \n",
       "2                              ABCIDIA CERTIFICATION   \n",
       "3  VERITAS, 60, avenue Charles De GAULLE, 92046 P...   \n",
       "4                                     LCC QUALIXPERT   \n",
       "\n",
       "                     adresse_organisme_certificateur  dpe_vierge est_efface  \\\n",
       "0                                               test         0.0          0   \n",
       "1  60 Avenue du Général de Gaulle , 92046 PARIS L...         0.0          0   \n",
       "2            4 route de la Noue 91190 GIF SUR YVETTE         0.0          0   \n",
       "3         Le Guillaumet 92046 PARIS LA DEFENSE CEDEX         0.0          0   \n",
       "4                        17 rue Borrel 81100 CASTRES         0.0          0   \n",
       "\n",
       "    date_reception_dpe  \n",
       "0  2018-06-25 16:19:54  \n",
       "1  2014-04-13 16:11:26  \n",
       "2  2017-07-17 15:24:28  \n",
       "3  2016-08-29 09:47:46  \n",
       "4  2019-04-24 12:21:56  \n",
       "\n",
       "[5 rows x 66 columns]"
      ]
     },
     "execution_count": 26,
     "metadata": {},
     "output_type": "execute_result"
    }
   ],
   "source": [
    "df_sample.head()"
   ]
  }
 ],
 "metadata": {
  "kernelspec": {
   "display_name": "Python 3",
   "language": "python",
   "name": "python3"
  },
  "language_info": {
   "codemirror_mode": {
    "name": "ipython",
    "version": 3
   },
   "file_extension": ".py",
   "mimetype": "text/x-python",
   "name": "python",
   "nbconvert_exporter": "python",
   "pygments_lexer": "ipython3",
   "version": "3.8.3"
  },
  "neptune": {
   "notebookId": "b2a3122a-34d4-4260-b6f4-9b510762e488"
  }
 },
 "nbformat": 4,
 "nbformat_minor": 4
}
