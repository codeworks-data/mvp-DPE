{
  "nbformat": 4,
  "nbformat_minor": 0,
  "metadata": {
    "accelerator": "TPU",
    "colab": {
      "name": "models.ipynb",
      "provenance": [],
      "collapsed_sections": [],
      "toc_visible": true,
      "include_colab_link": true
    },
    "kernelspec": {
      "display_name": "Python 3",
      "name": "python3"
    }
  },
  "cells": [
    {
      "cell_type": "markdown",
      "metadata": {
        "id": "view-in-github",
        "colab_type": "text"
      },
      "source": [
        "<a href=\"https://colab.research.google.com/github/codeworks-data/mvp-dpe/blob/main/notebooks/models.ipynb\" target=\"_parent\"><img src=\"https://colab.research.google.com/assets/colab-badge.svg\" alt=\"Open In Colab\"/></a>"
      ]
    },
    {
      "cell_type": "markdown",
      "metadata": {
        "id": "DN_zoRKylVYQ"
      },
      "source": [
        "# Project Scoping"
      ]
    },
    {
      "cell_type": "markdown",
      "metadata": {
        "id": "1mpyvJK66X81"
      },
      "source": [
        "## Description \n",
        "\n",
        "The following notebook details our approach to building a modeling pipeline, and saving runs to MLflow, to predict energy consumption for a given space in France (apartment, building, mall...)."
      ]
    },
    {
      "cell_type": "code",
      "metadata": {
        "id": "2Az4EeYH43YO",
        "colab": {
          "base_uri": "https://localhost:8080/"
        },
        "outputId": "18e3ff7f-ab80-450f-fb80-45f0bab5cb55"
      },
      "source": [
        "# In order to get the execution time of each cell\n",
        "!pip install ipython-autotime\n",
        "%load_ext autotime\n",
        "!pip install mlflow --quiet\n",
        "!pip install pyngrok --quiet\n",
        "!pip install scikit-optimize\n",
        "!pip install bayesian-optimization\n",
        "!pip install catboost\n",
        "!pip install category_encoders\n",
        "!pip install shap"
      ],
      "execution_count": 1,
      "outputs": [
        {
          "output_type": "stream",
          "text": [
            "Collecting ipython-autotime\n",
            "  Downloading https://files.pythonhosted.org/packages/b4/c9/b413a24f759641bc27ef98c144b590023c8038dfb8a3f09e713e9dff12c1/ipython_autotime-0.3.1-py2.py3-none-any.whl\n",
            "Requirement already satisfied: ipython in /usr/local/lib/python3.7/dist-packages (from ipython-autotime) (5.5.0)\n",
            "Requirement already satisfied: pickleshare in /usr/local/lib/python3.7/dist-packages (from ipython->ipython-autotime) (0.7.5)\n",
            "Requirement already satisfied: pexpect; sys_platform != \"win32\" in /usr/local/lib/python3.7/dist-packages (from ipython->ipython-autotime) (4.8.0)\n",
            "Requirement already satisfied: prompt-toolkit<2.0.0,>=1.0.4 in /usr/local/lib/python3.7/dist-packages (from ipython->ipython-autotime) (1.0.18)\n",
            "Requirement already satisfied: traitlets>=4.2 in /usr/local/lib/python3.7/dist-packages (from ipython->ipython-autotime) (5.0.5)\n",
            "Requirement already satisfied: simplegeneric>0.8 in /usr/local/lib/python3.7/dist-packages (from ipython->ipython-autotime) (0.8.1)\n",
            "Requirement already satisfied: decorator in /usr/local/lib/python3.7/dist-packages (from ipython->ipython-autotime) (4.4.2)\n",
            "Requirement already satisfied: setuptools>=18.5 in /usr/local/lib/python3.7/dist-packages (from ipython->ipython-autotime) (56.1.0)\n",
            "Requirement already satisfied: pygments in /usr/local/lib/python3.7/dist-packages (from ipython->ipython-autotime) (2.6.1)\n",
            "Requirement already satisfied: ptyprocess>=0.5 in /usr/local/lib/python3.7/dist-packages (from pexpect; sys_platform != \"win32\"->ipython->ipython-autotime) (0.7.0)\n",
            "Requirement already satisfied: six>=1.9.0 in /usr/local/lib/python3.7/dist-packages (from prompt-toolkit<2.0.0,>=1.0.4->ipython->ipython-autotime) (1.15.0)\n",
            "Requirement already satisfied: wcwidth in /usr/local/lib/python3.7/dist-packages (from prompt-toolkit<2.0.0,>=1.0.4->ipython->ipython-autotime) (0.2.5)\n",
            "Requirement already satisfied: ipython-genutils in /usr/local/lib/python3.7/dist-packages (from traitlets>=4.2->ipython->ipython-autotime) (0.2.0)\n",
            "Installing collected packages: ipython-autotime\n",
            "Successfully installed ipython-autotime-0.3.1\n",
            "\u001b[K     |████████████████████████████████| 14.2MB 206kB/s \n",
            "\u001b[K     |████████████████████████████████| 174kB 47.5MB/s \n",
            "\u001b[K     |████████████████████████████████| 1.1MB 33.0MB/s \n",
            "\u001b[K     |████████████████████████████████| 81kB 10.1MB/s \n",
            "\u001b[K     |████████████████████████████████| 61kB 7.1MB/s \n",
            "\u001b[K     |████████████████████████████████| 153kB 45.1MB/s \n",
            "\u001b[K     |████████████████████████████████| 71kB 8.0MB/s \n",
            "\u001b[K     |████████████████████████████████| 81kB 8.9MB/s \n",
            "\u001b[K     |████████████████████████████████| 71kB 8.7MB/s \n",
            "\u001b[?25h  Building wheel for alembic (setup.py) ... \u001b[?25l\u001b[?25hdone\n",
            "  Building wheel for prometheus-flask-exporter (setup.py) ... \u001b[?25l\u001b[?25hdone\n",
            "  Building wheel for databricks-cli (setup.py) ... \u001b[?25l\u001b[?25hdone\n",
            "\u001b[K     |████████████████████████████████| 747kB 6.8MB/s \n",
            "\u001b[?25h  Building wheel for pyngrok (setup.py) ... \u001b[?25l\u001b[?25hdone\n",
            "Collecting scikit-optimize\n",
            "\u001b[?25l  Downloading https://files.pythonhosted.org/packages/8b/03/be33e89f55866065a02e515c5b319304a801a9f1027a9b311a9b1d1f8dc7/scikit_optimize-0.8.1-py2.py3-none-any.whl (101kB)\n",
            "\u001b[K     |████████████████████████████████| 102kB 1.9MB/s \n",
            "\u001b[?25hRequirement already satisfied: scipy>=0.19.1 in /usr/local/lib/python3.7/dist-packages (from scikit-optimize) (1.4.1)\n",
            "Collecting pyaml>=16.9\n",
            "  Downloading https://files.pythonhosted.org/packages/15/c4/1310a054d33abc318426a956e7d6df0df76a6ddfa9c66f6310274fb75d42/pyaml-20.4.0-py2.py3-none-any.whl\n",
            "Requirement already satisfied: numpy>=1.13.3 in /usr/local/lib/python3.7/dist-packages (from scikit-optimize) (1.19.5)\n",
            "Requirement already satisfied: scikit-learn>=0.20.0 in /usr/local/lib/python3.7/dist-packages (from scikit-optimize) (0.22.2.post1)\n",
            "Requirement already satisfied: joblib>=0.11 in /usr/local/lib/python3.7/dist-packages (from scikit-optimize) (1.0.1)\n",
            "Requirement already satisfied: PyYAML in /usr/local/lib/python3.7/dist-packages (from pyaml>=16.9->scikit-optimize) (3.13)\n",
            "Installing collected packages: pyaml, scikit-optimize\n",
            "Successfully installed pyaml-20.4.0 scikit-optimize-0.8.1\n",
            "Collecting bayesian-optimization\n",
            "  Downloading https://files.pythonhosted.org/packages/bb/7a/fd8059a3881d3ab37ac8f72f56b73937a14e8bb14a9733e68cc8b17dbe3c/bayesian-optimization-1.2.0.tar.gz\n",
            "Requirement already satisfied: numpy>=1.9.0 in /usr/local/lib/python3.7/dist-packages (from bayesian-optimization) (1.19.5)\n",
            "Requirement already satisfied: scipy>=0.14.0 in /usr/local/lib/python3.7/dist-packages (from bayesian-optimization) (1.4.1)\n",
            "Requirement already satisfied: scikit-learn>=0.18.0 in /usr/local/lib/python3.7/dist-packages (from bayesian-optimization) (0.22.2.post1)\n",
            "Requirement already satisfied: joblib>=0.11 in /usr/local/lib/python3.7/dist-packages (from scikit-learn>=0.18.0->bayesian-optimization) (1.0.1)\n",
            "Building wheels for collected packages: bayesian-optimization\n",
            "  Building wheel for bayesian-optimization (setup.py) ... \u001b[?25l\u001b[?25hdone\n",
            "  Created wheel for bayesian-optimization: filename=bayesian_optimization-1.2.0-cp37-none-any.whl size=11687 sha256=19f4e5af80cf297becba2ba47bc96e7e47426b41bdf79698dc665e54c1f77629\n",
            "  Stored in directory: /root/.cache/pip/wheels/5a/56/ae/e0e3c1fc1954dc3ec712e2df547235ed072b448094d8f94aec\n",
            "Successfully built bayesian-optimization\n",
            "Installing collected packages: bayesian-optimization\n",
            "Successfully installed bayesian-optimization-1.2.0\n",
            "Collecting catboost\n",
            "\u001b[?25l  Downloading https://files.pythonhosted.org/packages/47/80/8e9c57ec32dfed6ba2922bc5c96462cbf8596ce1a6f5de532ad1e43e53fe/catboost-0.25.1-cp37-none-manylinux1_x86_64.whl (67.3MB)\n",
            "\u001b[K     |████████████████████████████████| 67.3MB 57kB/s \n",
            "\u001b[?25hRequirement already satisfied: numpy>=1.16.0 in /usr/local/lib/python3.7/dist-packages (from catboost) (1.19.5)\n",
            "Requirement already satisfied: scipy in /usr/local/lib/python3.7/dist-packages (from catboost) (1.4.1)\n",
            "Requirement already satisfied: pandas>=0.24.0 in /usr/local/lib/python3.7/dist-packages (from catboost) (1.1.5)\n",
            "Requirement already satisfied: graphviz in /usr/local/lib/python3.7/dist-packages (from catboost) (0.10.1)\n",
            "Requirement already satisfied: matplotlib in /usr/local/lib/python3.7/dist-packages (from catboost) (3.2.2)\n",
            "Requirement already satisfied: six in /usr/local/lib/python3.7/dist-packages (from catboost) (1.15.0)\n",
            "Requirement already satisfied: plotly in /usr/local/lib/python3.7/dist-packages (from catboost) (4.4.1)\n",
            "Requirement already satisfied: pytz>=2017.2 in /usr/local/lib/python3.7/dist-packages (from pandas>=0.24.0->catboost) (2018.9)\n",
            "Requirement already satisfied: python-dateutil>=2.7.3 in /usr/local/lib/python3.7/dist-packages (from pandas>=0.24.0->catboost) (2.8.1)\n",
            "Requirement already satisfied: cycler>=0.10 in /usr/local/lib/python3.7/dist-packages (from matplotlib->catboost) (0.10.0)\n",
            "Requirement already satisfied: pyparsing!=2.0.4,!=2.1.2,!=2.1.6,>=2.0.1 in /usr/local/lib/python3.7/dist-packages (from matplotlib->catboost) (2.4.7)\n",
            "Requirement already satisfied: kiwisolver>=1.0.1 in /usr/local/lib/python3.7/dist-packages (from matplotlib->catboost) (1.3.1)\n",
            "Requirement already satisfied: retrying>=1.3.3 in /usr/local/lib/python3.7/dist-packages (from plotly->catboost) (1.3.3)\n",
            "Installing collected packages: catboost\n",
            "Successfully installed catboost-0.25.1\n",
            "Collecting category_encoders\n",
            "\u001b[?25l  Downloading https://files.pythonhosted.org/packages/44/57/fcef41c248701ee62e8325026b90c432adea35555cbc870aff9cfba23727/category_encoders-2.2.2-py2.py3-none-any.whl (80kB)\n",
            "\u001b[K     |████████████████████████████████| 81kB 4.1MB/s \n",
            "\u001b[?25hRequirement already satisfied: pandas>=0.21.1 in /usr/local/lib/python3.7/dist-packages (from category_encoders) (1.1.5)\n",
            "Requirement already satisfied: numpy>=1.14.0 in /usr/local/lib/python3.7/dist-packages (from category_encoders) (1.19.5)\n",
            "Requirement already satisfied: scikit-learn>=0.20.0 in /usr/local/lib/python3.7/dist-packages (from category_encoders) (0.22.2.post1)\n",
            "Requirement already satisfied: statsmodels>=0.9.0 in /usr/local/lib/python3.7/dist-packages (from category_encoders) (0.10.2)\n",
            "Requirement already satisfied: patsy>=0.5.1 in /usr/local/lib/python3.7/dist-packages (from category_encoders) (0.5.1)\n",
            "Requirement already satisfied: scipy>=1.0.0 in /usr/local/lib/python3.7/dist-packages (from category_encoders) (1.4.1)\n",
            "Requirement already satisfied: python-dateutil>=2.7.3 in /usr/local/lib/python3.7/dist-packages (from pandas>=0.21.1->category_encoders) (2.8.1)\n",
            "Requirement already satisfied: pytz>=2017.2 in /usr/local/lib/python3.7/dist-packages (from pandas>=0.21.1->category_encoders) (2018.9)\n",
            "Requirement already satisfied: joblib>=0.11 in /usr/local/lib/python3.7/dist-packages (from scikit-learn>=0.20.0->category_encoders) (1.0.1)\n",
            "Requirement already satisfied: six in /usr/local/lib/python3.7/dist-packages (from patsy>=0.5.1->category_encoders) (1.15.0)\n",
            "Installing collected packages: category-encoders\n",
            "Successfully installed category-encoders-2.2.2\n",
            "Collecting shap\n",
            "\u001b[?25l  Downloading https://files.pythonhosted.org/packages/b9/f4/c5b95cddae15be80f8e58b25edceca105aa83c0b8c86a1edad24a6af80d3/shap-0.39.0.tar.gz (356kB)\n",
            "\u001b[K     |████████████████████████████████| 358kB 6.8MB/s \n",
            "\u001b[?25hRequirement already satisfied: numpy in /usr/local/lib/python3.7/dist-packages (from shap) (1.19.5)\n",
            "Requirement already satisfied: scipy in /usr/local/lib/python3.7/dist-packages (from shap) (1.4.1)\n",
            "Requirement already satisfied: scikit-learn in /usr/local/lib/python3.7/dist-packages (from shap) (0.22.2.post1)\n",
            "Requirement already satisfied: pandas in /usr/local/lib/python3.7/dist-packages (from shap) (1.1.5)\n",
            "Requirement already satisfied: tqdm>4.25.0 in /usr/local/lib/python3.7/dist-packages (from shap) (4.41.1)\n",
            "Collecting slicer==0.0.7\n",
            "  Downloading https://files.pythonhosted.org/packages/78/c2/b3f55dfdb8af9812fdb9baf70cacf3b9e82e505b2bd4324d588888b81202/slicer-0.0.7-py3-none-any.whl\n",
            "Requirement already satisfied: numba in /usr/local/lib/python3.7/dist-packages (from shap) (0.51.2)\n",
            "Requirement already satisfied: cloudpickle in /usr/local/lib/python3.7/dist-packages (from shap) (1.3.0)\n",
            "Requirement already satisfied: joblib>=0.11 in /usr/local/lib/python3.7/dist-packages (from scikit-learn->shap) (1.0.1)\n",
            "Requirement already satisfied: pytz>=2017.2 in /usr/local/lib/python3.7/dist-packages (from pandas->shap) (2018.9)\n",
            "Requirement already satisfied: python-dateutil>=2.7.3 in /usr/local/lib/python3.7/dist-packages (from pandas->shap) (2.8.1)\n",
            "Requirement already satisfied: llvmlite<0.35,>=0.34.0.dev0 in /usr/local/lib/python3.7/dist-packages (from numba->shap) (0.34.0)\n",
            "Requirement already satisfied: setuptools in /usr/local/lib/python3.7/dist-packages (from numba->shap) (56.1.0)\n",
            "Requirement already satisfied: six>=1.5 in /usr/local/lib/python3.7/dist-packages (from python-dateutil>=2.7.3->pandas->shap) (1.15.0)\n",
            "Building wheels for collected packages: shap\n",
            "  Building wheel for shap (setup.py) ... \u001b[?25l\u001b[?25hdone\n",
            "  Created wheel for shap: filename=shap-0.39.0-cp37-cp37m-linux_x86_64.whl size=491617 sha256=4e0a7c7291a5a7523b75d51c8b33c03ae83aa50f99a94a0ba02928b0a0d251ef\n",
            "  Stored in directory: /root/.cache/pip/wheels/15/27/f5/a8ab9da52fd159aae6477b5ede6eaaec69fd130fa0fa59f283\n",
            "Successfully built shap\n",
            "Installing collected packages: slicer, shap\n",
            "Successfully installed shap-0.39.0 slicer-0.0.7\n",
            "time: 47 s (started: 2021-05-27 11:50:13 +00:00)\n"
          ],
          "name": "stdout"
        }
      ]
    },
    {
      "cell_type": "markdown",
      "metadata": {
        "id": "WJ4iXd6q7svH"
      },
      "source": [
        "* We only ignore the warnings for format concerns. However, they were taken into consideration and only ignored after previous execution."
      ]
    },
    {
      "cell_type": "code",
      "metadata": {
        "colab": {
          "base_uri": "https://localhost:8080/"
        },
        "id": "47TYYNHameGs",
        "outputId": "8d80474c-f1e2-4cc9-e36e-4f6830fb75ff"
      },
      "source": [
        "import warnings\n",
        "warnings.filterwarnings('ignore')"
      ],
      "execution_count": 2,
      "outputs": [
        {
          "output_type": "stream",
          "text": [
            "time: 1.75 ms (started: 2021-05-27 11:51:00 +00:00)\n"
          ],
          "name": "stdout"
        }
      ]
    },
    {
      "cell_type": "markdown",
      "metadata": {
        "id": "S1jLx1m0J0Xf"
      },
      "source": [
        "# Import libraries"
      ]
    },
    {
      "cell_type": "code",
      "metadata": {
        "colab": {
          "base_uri": "https://localhost:8080/"
        },
        "id": "AMQ6c3zNJ7J1",
        "outputId": "7f8f10e3-f168-4b77-c2aa-144afef0dac7"
      },
      "source": [
        "# For data manipulation and data viz\n",
        "import numpy as np\n",
        "import pandas as pd\n",
        "from math import sqrt\n",
        "import seaborn as sns\n",
        "import shap\n",
        "import plotly.figure_factory as ff\n",
        "import plotly.express as px\n",
        "import plotly.graph_objs as go\n",
        "import matplotlib.pyplot as plt \n",
        "import missingno as msno\n",
        "import category_encoders as ce\n",
        "\n",
        "# Scikit-Learn Functions\n",
        "from sklearn.model_selection import train_test_split, KFold, StratifiedKFold, cross_val_score \n",
        "from sklearn.dummy import DummyRegressor\n",
        "from sklearn.metrics import mean_squared_error, mean_absolute_error, r2_score\n",
        "from sklearn.ensemble import RandomForestRegressor\n",
        "from sklearn.ensemble import RandomForestClassifier\n",
        "from sklearn.preprocessing import OneHotEncoder\n",
        "from sklearn.tree import DecisionTreeRegressor\n",
        "from sklearn import metrics\n",
        "from sklearn.model_selection import GridSearchCV\n",
        "from sklearn import tree\n",
        "from sklearn.metrics import ConfusionMatrixDisplay\n",
        "\n",
        "# Models\n",
        "import lightgbm as lgb\n",
        "import catboost as cgb\n",
        "\n",
        "# MLflow\n",
        "import mlflow\n",
        "import mlflow.sklearn\n",
        "from mlflow.tracking import MlflowClient\n",
        "\n",
        "# Optimization functions\n",
        "from bayes_opt import BayesianOptimization\n",
        "from skopt import gp_minimize\n",
        "from skopt import BayesSearchCV\n",
        "from skopt.utils import use_named_args\n",
        "from skopt.plots import plot_convergence\n",
        "from skopt.space import Real, Categorical, Integer\n",
        "from skopt.callbacks import DeadlineStopper, VerboseCallback, DeltaXStopper\n",
        "\n",
        "# Utils\n",
        "from pyngrok import ngrok\n",
        "import shutil"
      ],
      "execution_count": 3,
      "outputs": [
        {
          "output_type": "stream",
          "text": [
            "time: 9.98 s (started: 2021-05-27 11:51:00 +00:00)\n"
          ],
          "name": "stdout"
        }
      ]
    },
    {
      "cell_type": "code",
      "metadata": {
        "colab": {
          "base_uri": "https://localhost:8080/"
        },
        "id": "dfrSjRN_8S55",
        "outputId": "a40b4f0f-b6fd-4a35-e44c-dd4b108814da"
      },
      "source": [
        "pd.set_option('display.max_columns', None)"
      ],
      "execution_count": 4,
      "outputs": [
        {
          "output_type": "stream",
          "text": [
            "time: 2.18 ms (started: 2021-05-27 11:51:10 +00:00)\n"
          ],
          "name": "stdout"
        }
      ]
    },
    {
      "cell_type": "markdown",
      "metadata": {
        "id": "0HCIrHdMJnNT"
      },
      "source": [
        "# Import Data"
      ]
    },
    {
      "cell_type": "markdown",
      "metadata": {
        "id": "tAuXIJ5OboaK"
      },
      "source": [
        "* Let's mount data from Google Drive :"
      ]
    },
    {
      "cell_type": "code",
      "metadata": {
        "colab": {
          "base_uri": "https://localhost:8080/"
        },
        "id": "-1kOF-wXvEeg",
        "outputId": "fe20e045-bfc9-4d4f-d1f1-d1724efee4dd"
      },
      "source": [
        "# Mount Google Drive\n",
        "from google.colab import drive\n",
        "drive.mount(\"/content/drive\")"
      ],
      "execution_count": 5,
      "outputs": [
        {
          "output_type": "stream",
          "text": [
            "Mounted at /content/drive\n",
            "time: 2min 14s (started: 2021-05-27 11:51:10 +00:00)\n"
          ],
          "name": "stdout"
        }
      ]
    },
    {
      "cell_type": "markdown",
      "metadata": {
        "id": "_XSoYmqrVUfF"
      },
      "source": [
        "* Let's load the data and merge the clean df with the temperature data:\n",
        "\n"
      ]
    },
    {
      "cell_type": "code",
      "metadata": {
        "id": "wepjiMigJs_0"
      },
      "source": [
        "dataset_clean = pd.read_csv('/content/drive/My Drive/MVP/DPE/datasets/dpe_clean.csv', decimal='.', low_memory=False)\n",
        "temp = pd.read_csv('/content/drive/My Drive/MVP/DPE/datasets/temperatures.csv')\n",
        "# Merge dpe data with temperature data\n",
        "data = pd.merge(dataset_clean, temp, on ='code_departement')\n",
        "data.to_csv('/content/drive/My Drive/MVP/DPE/datasets/dpe_enriched.csv')"
      ],
      "execution_count": null,
      "outputs": []
    },
    {
      "cell_type": "markdown",
      "metadata": {
        "id": "jZcyyy2f5ddi"
      },
      "source": [
        "# Baseline"
      ]
    },
    {
      "cell_type": "code",
      "metadata": {
        "colab": {
          "base_uri": "https://localhost:8080/"
        },
        "id": "onNxbn-FDE7T",
        "outputId": "c2a2ee90-ad3c-454f-831f-3b5e80421fe9"
      },
      "source": [
        "class Parameters:\n",
        "   # Preprocessing parameters\n",
        "   data_name: str = f\"DPE\"\n",
        "   model_name: str = f\"baseline_mean\"\n",
        "   data_path: str = f\"/content/drive/My Drive/MVP/DPE/datasets/dpe_enriched.csv\"\n",
        "   img_path: str = f\"/content/drive/My Drive/MVP/DPE/images\"\n",
        "   test_size: float = 0.25 # Test data size\n",
        "   random_state = int = 42"
      ],
      "execution_count": 9,
      "outputs": [
        {
          "output_type": "stream",
          "text": [
            "time: 5.21 ms (started: 2021-05-27 11:53:55 +00:00)\n"
          ],
          "name": "stdout"
        }
      ]
    },
    {
      "cell_type": "code",
      "metadata": {
        "colab": {
          "base_uri": "https://localhost:8080/"
        },
        "id": "stwosH-K74LW",
        "outputId": "c2f0e964-e09a-4f67-ef7a-382e28ff70b8"
      },
      "source": [
        "class Pipeline:\n",
        "    \"\"\"\n",
        "    Class that builds entire ML pipeline and saves it to MLflow.\n",
        "    \"\"\"\n",
        "    def __init__(self, parameters):\n",
        "        \"\"\"\n",
        "        Init pipeline with datasets, model parameters and performance measurements. \n",
        "        \"\"\"\n",
        "        self.params = parameters\n",
        "        self.dataset_path = params.data_path\n",
        "        self.dataset = None\n",
        "\n",
        "        self.classes = ['A','B','C','D','E','F','G']\n",
        "\n",
        "        self.y = None\n",
        "        self.X_train = None\n",
        "        self.X_test = None\n",
        "        self.y_train = None\n",
        "        self.y_test = None\n",
        "        self.y_test_class = None\n",
        "        self.y_pred = None # Consommation energie\n",
        "        self.y_pred_class = None # Classe consommation energie\n",
        "\n",
        "        self.mean = None\n",
        "        self.confusion_matrix = None\n",
        "        self.classification_metrics = None  \n",
        "\n",
        "\n",
        "    def load_dataset(self):\n",
        "        \"\"\"\n",
        "        Read Dataset into pandas dataframe.\n",
        "        \"\"\"\n",
        "        self.dataset = pd.read_csv(self.dataset_path, decimal='.', low_memory=False, index_col=0)\n",
        "\n",
        "\n",
        "    def preprocessing(self):\n",
        "        \"\"\"\n",
        "        Define target.\n",
        "        \"\"\"\n",
        "        self.y = self.dataset['consommation_energie']\n",
        "\n",
        "\n",
        "    def train_test_split(self):\n",
        "        \"\"\"\n",
        "        Split data into train and test sets.\n",
        "        \"\"\"\n",
        "        # Use stratify to make sure we get an equal distribution of energy classes over the data sets\n",
        "        self.X_train, self.X_test, self.y_train, self.y_test = train_test_split(self.dataset, self.y, test_size=self.params.test_size, \n",
        "                                                                                random_state=self.params.random_state, \n",
        "                                                                                stratify=self.dataset['classe_consommation_energie'])\n",
        "\n",
        "\n",
        "    def model(self):\n",
        "        \"\"\"\n",
        "        Predict target using the target mean.\n",
        "        \"\"\"\n",
        "        self.mean = DummyRegressor(strategy=\"mean\")\n",
        "        self.mean.fit(self.X_train, self.y_train)\n",
        "        self.y_pred = self.mean.predict(self.X_test)\n",
        "\n",
        "\n",
        "    def model_evaluation(self):\n",
        "        \"\"\"\n",
        "        Evaluate model using classification metrics by converting energy consumption to energy classes.\n",
        "        \"\"\"\n",
        "        c = self.y_test.copy() \n",
        "        conditions = [(c >= 0) & (c <= 50), (c > 50) & (c <= 90), (c> 90) & (c <= 150),(c > 150) & (c <= 230), (c > 230) & (c <= 330), (c > 330) & (c <450), (c >= 450)]\n",
        "        self.y_test_class = np.select(conditions,self.classes)\n",
        "\n",
        "        c = self.y_pred.copy()\n",
        "        conditions = [(c >= 0) & (c <= 50), (c > 50) & (c <= 90), (c> 90) & (c <= 150),(c > 150) & (c <= 230), (c > 230) & (c <= 330), (c > 330) & (c <450), (c >= 450)]\n",
        "        self.y_pred_class = np.select(conditions,self.classes)\n",
        "\n",
        "        # Compute classification report and confusion matrix\n",
        "        self.classification_metrics = metrics.classification_report(self.y_test_class, self.y_pred_class)\n",
        "        self.confusion_matrix = metrics.confusion_matrix(self.y_test_class, self.y_pred_class)\n",
        "      \n",
        "\n",
        "    def log_confusion_metrics(self):\n",
        "        \"\"\"\n",
        "        Log classification metrics in MLflow tracking experiment.\n",
        "        \"\"\"\n",
        "        classification_array = self.classification_metrics.split()\n",
        "\n",
        "        i = 5\n",
        "        for classe in self.classes:\n",
        "            precision = float(classification_array[i])\n",
        "            mlflow.log_metric(f\"precision_{classe}\", precision)\n",
        "\n",
        "            recall = float(classification_array[i+1])\n",
        "            mlflow.log_metric(f\"recall_{classe}\", recall)\n",
        "\n",
        "            f1_score = float(classification_array[i+2])\n",
        "            mlflow.log_metric(f\"f1-score_{classe}\", f1_score)\n",
        "\n",
        "            support = float(classification_array[i+3])\n",
        "            mlflow.log_metric(f\"support_{classe}\", support)\n",
        "\n",
        "            i = i+5\n",
        "\n",
        "        accuracy = float(classification_array[i])\n",
        "        mlflow.log_metric(\"accuracy\", accuracy)\n",
        "\n",
        "      \n",
        "    def save_plot(self): \n",
        "        \"\"\"\n",
        "        Track confusion matrix plot.\n",
        "        \"\"\"\n",
        "        fig, axes = plt.subplots(figsize=(10,10))\n",
        "        disp = ConfusionMatrixDisplay(confusion_matrix=self.confusion_matrix, display_labels=self.classes)\n",
        "        disp = disp.plot(ax=axes)\n",
        "        plt.savefig(f\"{self.params.img_path}/confusion_matrix_{self.params.model_name}.png\")\n",
        "        # Log plot\n",
        "        mlflow.log_artifact(f\"{self.params.img_path}/confusion_matrix_{self.params.model_name}.png\")"
      ],
      "execution_count": 25,
      "outputs": [
        {
          "output_type": "stream",
          "text": [
            "time: 108 ms (started: 2021-05-27 12:18:55 +00:00)\n"
          ],
          "name": "stdout"
        }
      ]
    },
    {
      "cell_type": "code",
      "metadata": {
        "id": "DpV43sj68Uua",
        "colab": {
          "base_uri": "https://localhost:8080/",
          "height": 597
        },
        "outputId": "c29b6847-0f48-4e74-cdb1-6deb56e8c08b"
      },
      "source": [
        "# Init MLflow client\n",
        "mlflow.set_experiment('DPE-Mean')\n",
        "\n",
        "params = Parameters()\n",
        "\n",
        "# Start MLflow experiment\n",
        "with mlflow.start_run(run_name='Baseline : Mean') as run:\n",
        "    # Pipeline execution\n",
        "    pipeline = Pipeline(params)\n",
        "    pipeline.load_dataset()\n",
        "    pipeline.preprocessing()\n",
        "    pipeline.train_test_split() \n",
        "    pipeline.model()  \n",
        "    pipeline.model_evaluation()\n",
        "    pipeline.log_confusion_metrics()\n",
        "    pipeline.save_plot()"
      ],
      "execution_count": 26,
      "outputs": [
        {
          "output_type": "display_data",
          "data": {
            "image/png": "[encoded data removed]",
            "text/plain": [
              "<Figure size 720x720 with 2 Axes>"
            ]
          },
          "metadata": {
            "tags": [],
            "needs_background": "light"
          }
        },
        {
          "output_type": "stream",
          "text": [
            "time: 5.26 s (started: 2021-05-27 12:18:57 +00:00)\n"
          ],
          "name": "stdout"
        }
      ]
    },
    {
      "cell_type": "code",
      "metadata": {
        "id": "RFRagNveitAl"
      },
      "source": [
        "# Terminate open tunnels if exist\n",
        "ngrok.kill()\n",
        "\n",
        "# Setting the authtoken (optional)\n",
        "# Get your authtoken from https://dashboard.ngrok.com/auth\n",
        "NGROK_AUTH_TOKEN = \"1sCdZL0vOhPokZP6r1uZFcIG2B5_2AGxAFTUesCxw3MDWPEdw\"\n",
        "ngrok.set_auth_token(NGROK_AUTH_TOKEN)\n",
        "\n",
        "# Open an HTTPs tunnel on port 5000 for http://localhost:5000\n",
        "ngrok_tunnel = ngrok.connect(addr=\"5000\", proto=\"http\", bind_tls=True)\n",
        "print(\"MLflow Tracking UI:\", ngrok_tunnel.public_url)"
      ],
      "execution_count": null,
      "outputs": []
    },
    {
      "cell_type": "code",
      "metadata": {
        "id": "ZhghKT8git5o"
      },
      "source": [
        "!mlflow ui"
      ],
      "execution_count": null,
      "outputs": []
    },
    {
      "cell_type": "markdown",
      "metadata": {
        "id": "59EsZKHmbGgF"
      },
      "source": [
        "# Decision Tree Regressor\n"
      ]
    },
    {
      "cell_type": "markdown",
      "metadata": {
        "id": "3s2cAladvh1q"
      },
      "source": [
        "* The only categorical varibale we have is ***'code departement'*** (zip code).\n",
        "\n",
        "* The column is already an int. We could encode it into dummy variables but that woud generate 96 more columns which is not ideal for tree based models.\n",
        "We tried label encoding but it makes no sense business wise. Se we settled for frequency encoding."
      ]
    },
    {
      "cell_type": "code",
      "metadata": {
        "colab": {
          "base_uri": "https://localhost:8080/"
        },
        "id": "z3HuL3C4DM4M",
        "outputId": "92a48ac1-687c-440f-98fa-ca7f0f0053c5"
      },
      "source": [
        "class Parameters:\n",
        "    # Preprocessing parameters\n",
        "    data_name: str = f\"DPE\"\n",
        "    data_path: str = f\"/content/drive/My Drive/MVP/DPE/datasets/dpe_enriched.csv\"\n",
        "    img_path: str = f\"/content/drive/My Drive/MVP/DPE/images\"\n",
        "    model_path: str = f\"/content/drive/My Drive/MVP/DPE/models\"\n",
        "    model_name: str = f\"decision_trees\"\n",
        "    k_folds: int = 10 \n",
        "    test_size: float = 0.25\n",
        "    random_state = int = 42"
      ],
      "execution_count": 30,
      "outputs": [
        {
          "output_type": "stream",
          "text": [
            "time: 4.42 ms (started: 2021-05-27 12:19:56 +00:00)\n"
          ],
          "name": "stdout"
        }
      ]
    },
    {
      "cell_type": "code",
      "metadata": {
        "colab": {
          "base_uri": "https://localhost:8080/"
        },
        "id": "xa3O1lUCvg_c",
        "outputId": "a4ace6b7-19aa-4e59-d687-550c8b1780cb"
      },
      "source": [
        "class Pipeline:\n",
        "    \"\"\"\n",
        "    Class that builds entire ML pipeline and saves it to MLflow.\n",
        "    \"\"\"\n",
        "\n",
        "    def __init__(self, parameters):\n",
        "        \"\"\"\n",
        "        Init pipeline with datasets, model parameters and performance measurements. \n",
        "        \"\"\"\n",
        "        self.params = parameters\n",
        "        self.dataset_path = params.data_path\n",
        "        self.dataset = None\n",
        "\n",
        "        self.X = None\n",
        "        self.y = None\n",
        "        self.X_train = None\n",
        "        self.X_test = None\n",
        "        self.y_train = None\n",
        "        self.y_test = None\n",
        "        self.y_test_class = None\n",
        "        self.y_pred = None # Consommation energie\n",
        "        self.y_pred_class = None # Classe consommation energie\n",
        "\n",
        "        self.best_max_depth = None\n",
        "        self.best_min_samples_split = None\n",
        "        self.min_samples_leaf = None\n",
        "        self.min_weight_fraction_leaf = None\n",
        "        self.max_features = None\n",
        "        self.max_leaf_nodes = None\n",
        "        self.best_grid = None\n",
        "        self.best_splitter = None\n",
        "        self.tree = None\n",
        "\n",
        "        self.classes = ['A','B','C','D','E','F','G']\n",
        "        self.confusion_matrix = None\n",
        "        self.classification_metrics = None\n",
        "\n",
        "\n",
        "    def load_dataset(self):\n",
        "        \"\"\"\n",
        "        Load dataset into a pandas dataframe.\n",
        "        \"\"\"\n",
        "        self.dataset = pd.read_csv(self.dataset_path, decimal='.', low_memory=False, index_col=0)\n",
        "\n",
        "\n",
        "    def preprocessing(self):\n",
        "        \"\"\"\n",
        "        Preprocessing dataset, includes encoding categorical features using a frequency encoder,\n",
        "        dropping useless features and selecting the target.\n",
        "        \"\"\"\n",
        "        encoding = self.dataset.groupby('code_departement').size()\n",
        "        encoding = encoding/len(self.dataset)\n",
        "        self.dataset['code_departement'] = self.dataset.code_departement.map(encoding)\n",
        "\n",
        "\n",
        "        self.X = self.dataset.drop(['consommation_energie','estimation_ges', 'classe_consommation_ges',\n",
        "                            'date_visite_diagnostiqueur', 'date_etablissement_dpe','energie_totale',\n",
        "                            'code_region','code_insee_commune_actualise',\n",
        "                            'annee_construction','classe_estimation_ges','annee_visite'],axis = 1)\n",
        "\n",
        "        self.y = self.dataset['consommation_energie']\n",
        "\n",
        "\n",
        "    def train_test_split(self):\n",
        "        \"\"\"\n",
        "        Split data into train and test sets.\n",
        "        \"\"\"\n",
        "        # Use stratify to make sure we get an equal distribution of energy classes over the data sets\n",
        "        self.X_train, self.X_test, self.y_train, self.y_test = train_test_split(self.X,self.y, test_size=self.params.test_size, \n",
        "                                                                                random_state=self.params.random_state, \n",
        "                                                                                stratify=self.X['classe_consommation_energie'])\n",
        "\n",
        "        self.X_train = self.X_train.drop(['classe_consommation_energie'], axis = 1)\n",
        "        self.X_test = self.X_test.drop(['classe_consommation_energie'], axis = 1)\n",
        "\n",
        "\n",
        "    def parameter_tuning(self):\n",
        "        \"\"\"\n",
        "        Hyperparameter tuning using grid search.\n",
        "        \"\"\"\n",
        "        # Grid parameters \n",
        "        params = {\n",
        "                'max_depth': [5, 8, 10],\n",
        "                'min_samples_split' : [10, 100],\n",
        "                'min_samples_leaf':[1,2],\n",
        "                'min_weight_fraction_leaf':[0.0, 0.1],\n",
        "                'max_features':[\"auto\",\"log2\",\"sqrt\",None],\n",
        "                'max_leaf_nodes':[None,10], \n",
        "                'criterion': ['mse'], \n",
        "                'splitter':[\"best\"],\n",
        "                }\n",
        "\n",
        "        # Grid search\n",
        "        tree = DecisionTreeRegressor()\n",
        "        grid = GridSearchCV(tree, params, cv=self.params.k_folds)\n",
        "        grid.fit(self.X_train, self.y_train)\n",
        "\n",
        "        # Assign the best parameters\n",
        "        self.best_max_depth = grid.best_params_['max_depth']\n",
        "        self.best_min_samples_split = grid.best_params_['min_samples_split']\n",
        "        self.best_max_leaf_nodes = grid.best_params_['max_leaf_nodes']\n",
        "        self.best_max_features = grid.best_params_['max_features']\n",
        "        self.best_min_weight_fraction_leaf = grid.best_params_['min_weight_fraction_leaf']\n",
        "        self.best_min_samples_leaf = grid.best_params_['min_samples_leaf']\n",
        "        self.best_criterion = grid.best_params_['criterion'] \n",
        "        self.best_splitter = grid.best_params_['splitter']\n",
        "            \n",
        "        # Log the best parameters to Mlflow\n",
        "        mlflow.log_param(f'best_max_depth', self.best_max_depth) \n",
        "        mlflow.log_param(f'best_min_samples_split', self.best_min_samples_split)\n",
        "        mlflow.log_param(f'best_max_leaf_nodes', self.best_max_leaf_nodes)\n",
        "        mlflow.log_param(f'best_max_features', self.best_max_features)\n",
        "        mlflow.log_param(f'best_min_weight_fraction_leaf', self.best_min_weight_fraction_leaf)\n",
        "        mlflow.log_param(f'best_min_samples_leaf', self.best_min_samples_leaf)\n",
        "        mlflow.log_param(f'best_criterion', self.best_criterion)\n",
        "        mlflow.log_param(f'best_splitter', self.best_splitter)\n",
        "\n",
        "      \n",
        "    def k_fold_cross_validation(self):\n",
        "        \"\"\"\n",
        "        Apply k-fold cross validation.\n",
        "        \"\"\"\n",
        "        self.tree = DecisionTreeRegressor(max_depth=self.best_max_depth, min_samples_split=self.best_min_samples_split,\n",
        "                                        splitter=self.best_splitter, criterion=self.best_criterion)\n",
        "        kfold_scores = cross_val_score(self.tree, self.X_train, self.y_train, cv=self.params.k_folds)\n",
        "\n",
        "        # Log accuracy metrics to MLflow \n",
        "        mlflow.log_metric(f\"average_accuracy\", kfold_scores.mean())\n",
        "        mlflow.log_metric(f\"std_accuracy\", kfold_scores.std())\n",
        "\n",
        "\n",
        "    def model_evaluation(self):\n",
        "        \"\"\"\n",
        "        Evaluate model using classification metrics by converting energy consumption (regression) to classes.\n",
        "        And log metrics to MLflow.\n",
        "        \"\"\"\n",
        "        # Assign classes to test target\n",
        "        c = self.y_test.copy() \n",
        "        conditions = [(c >= 0) & (c <= 50), (c > 50) & (c <= 90), (c> 90) & (c <= 150),(c > 150) & (c <= 230), (c > 230) & (c <= 330), (c > 330) & (c <450), (c >= 450)]\n",
        "        self.y_test_class = np.select(conditions,self.classes)\n",
        "\n",
        "        # Fit model\n",
        "        self.tree.fit(self.X_train, self.y_train) \n",
        "        self.y_pred = self.tree.predict(self.X_test)\n",
        "\n",
        "        # Assign classes to predicted target\n",
        "        c = self.y_pred.copy()\n",
        "        conditions = [(c >= 0) & (c <= 50), (c > 50) & (c <= 90), (c> 90) & (c <= 150),(c > 150) & (c <= 230), (c > 230) & (c <= 330), (c > 330) & (c <450), (c >= 450)]\n",
        "        self.y_pred_class = np.select(conditions,self.classes)\n",
        "\n",
        "        # Compute classification report\n",
        "        self.classification_metrics = metrics.classification_report(self.y_test_class, self.y_pred_class)\n",
        "        self.confusion_matrix = metrics.confusion_matrix(self.y_test_class, self.y_pred_class)\n",
        "\n",
        "        # Log accuracy to MLflow\n",
        "        mlflow.log_metric(f\"train_accuracy\", self.tree.score(self.X_train, self.y_train))\n",
        "        mlflow.log_metric(f\"test_accuracy\", self.tree.score(self.X_test, self.y_test))\n",
        " \n",
        "\n",
        "    def log_confusion_metrics(self):\n",
        "        \"\"\"\n",
        "        Log classification report metrics to MLflow.\n",
        "        \"\"\"\n",
        "        classification_array = self.classification_metrics.split()\n",
        "\n",
        "        i = 5\n",
        "        for classe in self.classes:\n",
        "            precision = float(classification_array[i])\n",
        "            mlflow.log_metric(f\"precision_{classe}\", precision)\n",
        "\n",
        "            recall = float(classification_array[i+1])\n",
        "            mlflow.log_metric(f\"recall_{classe}\", recall)\n",
        "\n",
        "            f1_score = float(classification_array[i+2])\n",
        "            mlflow.log_metric(f\"f1-score_{classe}\", f1_score)\n",
        "\n",
        "            support = float(classification_array[i+3])\n",
        "            mlflow.log_metric(f\"support_{classe}\", support)\n",
        "\n",
        "            i = i+5\n",
        "\n",
        "        accuracy = float(classification_array[i])\n",
        "        mlflow.log_metric(\"accuracy\", accuracy)\n",
        "\n",
        "\n",
        "    def save_model(self):\n",
        "        \"\"\"\n",
        "        Save model and performance plots.\n",
        "        \"\"\"\n",
        "        # Track confusion matrix plot\n",
        "        fig, axes = plt.subplots(figsize=(10,10))\n",
        "        disp = ConfusionMatrixDisplay(confusion_matrix=self.confusion_matrix, display_labels=self.classes)\n",
        "        disp = disp.plot(ax=axes)\n",
        "        plt.savefig(f\"{self.params.img_path}/confusion_matrix_{self.params.model_name}.png\")\n",
        "        # Log plot\n",
        "        mlflow.log_artifact(f\"{self.params.img_path}/confusion_matrix_{self.params.model_name}.png\")\n",
        "\n",
        "        # Feature Importance\n",
        "        explainer = shap.TreeExplainer(self.tree)\n",
        "        shap_values = explainer.shap_values(self.X_test)\n",
        "\n",
        "        fig, axes = plt.subplots(figsize=(10,10))\n",
        "        shap.summary_plot(shap_values, self.X_test, show=False)\n",
        "        plt.savefig(f\"{pipeline.params.img_path}/feature_importance_{self.params.model_name}.png\", dpi=150, bbox_inches='tight')\n",
        "\n",
        "        fig, axes = plt.subplots(figsize=(10,10))\n",
        "        shap.summary_plot(shap_values, self.X_test, plot_type='bar', show=False)\n",
        "        plt.savefig(f\"{pipeline.params.img_path}/feature_importance_bar_{self.params.model_name}.png\", dpi=150, bbox_inches='tight')\n",
        "\n",
        "        # Log the best model\n",
        "        mlflow.sklearn.save_model(self.tree, f\"{self.params.model_path}/_{self.params.model_name}\", serialization_format=mlflow.sklearn.SERIALIZATION_FORMAT_PICKLE) "
      ],
      "execution_count": 31,
      "outputs": [
        {
          "output_type": "stream",
          "text": [
            "time: 392 ms (started: 2021-05-27 12:22:08 +00:00)\n"
          ],
          "name": "stdout"
        }
      ]
    },
    {
      "cell_type": "code",
      "metadata": {
        "id": "r2HBwmbjFuoh",
        "colab": {
          "base_uri": "https://localhost:8080/",
          "height": 1000
        },
        "outputId": "ac641483-8e97-4a83-bbd2-d20561103e40"
      },
      "source": [
        "# Init MLflow client\n",
        "mlflow.set_experiment('DPE-Decision-Trees')\n",
        "\n",
        "params = Parameters()\n",
        "\n",
        "# Start MLflow experiment\n",
        "with mlflow.start_run(run_name='Decision Tree Regression') as run:\n",
        "    # Pipeline execution\n",
        "    pipeline = Pipeline(params)\n",
        "    pipeline.load_dataset()\n",
        "    pipeline.preprocessing()\n",
        "    pipeline.train_test_split()\n",
        "    pipeline.parameter_tuning()\n",
        "    pipeline.k_fold_cross_validation()\n",
        "    pipeline.model_evaluation()\n",
        "    pipeline.log_confusion_metrics()\n",
        "    pipeline.save_model()"
      ],
      "execution_count": 32,
      "outputs": [
        {
          "output_type": "error",
          "ename": "MlflowException",
          "evalue": "ignored",
          "traceback": [
            "\u001b[0;31m---------------------------------------------------------------------------\u001b[0m",
            "\u001b[0;31mMlflowException\u001b[0m                           Traceback (most recent call last)",
            "\u001b[0;32m<ipython-input-32-35ec47a76660>\u001b[0m in \u001b[0;36m<module>\u001b[0;34m()\u001b[0m\n\u001b[1;32m     15\u001b[0m     \u001b[0mpipeline\u001b[0m\u001b[0;34m.\u001b[0m\u001b[0mmodel_evaluation\u001b[0m\u001b[0;34m(\u001b[0m\u001b[0;34m)\u001b[0m\u001b[0;34m\u001b[0m\u001b[0;34m\u001b[0m\u001b[0m\n\u001b[1;32m     16\u001b[0m     \u001b[0mpipeline\u001b[0m\u001b[0;34m.\u001b[0m\u001b[0mlog_confusion_metrics\u001b[0m\u001b[0;34m(\u001b[0m\u001b[0;34m)\u001b[0m\u001b[0;34m\u001b[0m\u001b[0;34m\u001b[0m\u001b[0m\n\u001b[0;32m---> 17\u001b[0;31m     \u001b[0mpipeline\u001b[0m\u001b[0;34m.\u001b[0m\u001b[0msave_model\u001b[0m\u001b[0;34m(\u001b[0m\u001b[0;34m)\u001b[0m\u001b[0;34m\u001b[0m\u001b[0;34m\u001b[0m\u001b[0m\n\u001b[0m",
            "\u001b[0;32m<ipython-input-31-ac2ca810557e>\u001b[0m in \u001b[0;36msave_model\u001b[0;34m(self)\u001b[0m\n\u001b[1;32m    209\u001b[0m \u001b[0;34m\u001b[0m\u001b[0m\n\u001b[1;32m    210\u001b[0m         \u001b[0;31m# Log the best model\u001b[0m\u001b[0;34m\u001b[0m\u001b[0;34m\u001b[0m\u001b[0;34m\u001b[0m\u001b[0m\n\u001b[0;32m--> 211\u001b[0;31m         \u001b[0mmlflow\u001b[0m\u001b[0;34m.\u001b[0m\u001b[0msklearn\u001b[0m\u001b[0;34m.\u001b[0m\u001b[0msave_model\u001b[0m\u001b[0;34m(\u001b[0m\u001b[0mself\u001b[0m\u001b[0;34m.\u001b[0m\u001b[0mtree\u001b[0m\u001b[0;34m,\u001b[0m \u001b[0;34mf\"{self.params.model_path}/_{self.params.model_name}\"\u001b[0m\u001b[0;34m,\u001b[0m \u001b[0mserialization_format\u001b[0m\u001b[0;34m=\u001b[0m\u001b[0mmlflow\u001b[0m\u001b[0;34m.\u001b[0m\u001b[0msklearn\u001b[0m\u001b[0;34m.\u001b[0m\u001b[0mSERIALIZATION_FORMAT_PICKLE\u001b[0m\u001b[0;34m)\u001b[0m\u001b[0;34m\u001b[0m\u001b[0;34m\u001b[0m\u001b[0m\n\u001b[0m",
            "\u001b[0;32m/usr/local/lib/python3.7/dist-packages/mlflow/sklearn/__init__.py\u001b[0m in \u001b[0;36msave_model\u001b[0;34m(sk_model, path, conda_env, mlflow_model, serialization_format, signature, input_example)\u001b[0m\n\u001b[1;32m    171\u001b[0m     \u001b[0;32mif\u001b[0m \u001b[0mos\u001b[0m\u001b[0;34m.\u001b[0m\u001b[0mpath\u001b[0m\u001b[0;34m.\u001b[0m\u001b[0mexists\u001b[0m\u001b[0;34m(\u001b[0m\u001b[0mpath\u001b[0m\u001b[0;34m)\u001b[0m\u001b[0;34m:\u001b[0m\u001b[0;34m\u001b[0m\u001b[0;34m\u001b[0m\u001b[0m\n\u001b[1;32m    172\u001b[0m         raise MlflowException(\n\u001b[0;32m--> 173\u001b[0;31m             \u001b[0mmessage\u001b[0m\u001b[0;34m=\u001b[0m\u001b[0;34m\"Path '{}' already exists\"\u001b[0m\u001b[0;34m.\u001b[0m\u001b[0mformat\u001b[0m\u001b[0;34m(\u001b[0m\u001b[0mpath\u001b[0m\u001b[0;34m)\u001b[0m\u001b[0;34m,\u001b[0m \u001b[0merror_code\u001b[0m\u001b[0;34m=\u001b[0m\u001b[0mRESOURCE_ALREADY_EXISTS\u001b[0m\u001b[0;34m\u001b[0m\u001b[0;34m\u001b[0m\u001b[0m\n\u001b[0m\u001b[1;32m    174\u001b[0m         )\n\u001b[1;32m    175\u001b[0m     \u001b[0mos\u001b[0m\u001b[0;34m.\u001b[0m\u001b[0mmakedirs\u001b[0m\u001b[0;34m(\u001b[0m\u001b[0mpath\u001b[0m\u001b[0;34m)\u001b[0m\u001b[0;34m\u001b[0m\u001b[0;34m\u001b[0m\u001b[0m\n",
            "\u001b[0;31mMlflowException\u001b[0m: Path '/content/drive/My Drive/MVP/DPE/models/_decision_trees' already exists"
          ]
        },
        {
          "output_type": "display_data",
          "data": {
            "image/png": "[encoded data removed]",
            "text/plain": [
              "<Figure size 720x720 with 2 Axes>"
            ]
          },
          "metadata": {
            "tags": [],
            "needs_background": "light"
          }
        },
        {
          "output_type": "display_data",
          "data": {
            "image/png": "[encoded data removed]",
            "text/plain": [
              "<Figure size 576x684 with 2 Axes>"
            ]
          },
          "metadata": {
            "tags": [],
            "needs_background": "light"
          }
        },
        {
          "output_type": "display_data",
          "data": {
            "image/png": "[encoded data removed]",
            "text/plain": [
              "<Figure size 576x684 with 1 Axes>"
            ]
          },
          "metadata": {
            "tags": [],
            "needs_background": "light"
          }
        },
        {
          "output_type": "stream",
          "text": [
            "time: 20min 25s (started: 2021-05-27 12:22:12 +00:00)\n"
          ],
          "name": "stdout"
        }
      ]
    },
    {
      "cell_type": "code",
      "metadata": {
        "colab": {
          "base_uri": "https://localhost:8080/"
        },
        "id": "L1aY_YLFwsvZ",
        "outputId": "20b563d8-63de-49d0-b39e-03663d100cc6"
      },
      "source": [
        "# Terminate open tunnels if exist\n",
        "ngrok.kill()\n",
        "\n",
        "# Setting the authtoken (optional)\n",
        "# Get your authtoken from https://dashboard.ngrok.com/auth\n",
        "NGROK_AUTH_TOKEN = \"1sCdZL0vOhPokZP6r1uZFcIG2B5_2AGxAFTUesCxw3MDWPEdw\"\n",
        "ngrok.set_auth_token(NGROK_AUTH_TOKEN)\n",
        "\n",
        "# Open an HTTPs tunnel on port 5000 for http://localhost:5000\n",
        "ngrok_tunnel = ngrok.connect(addr=\"5000\", proto=\"http\", bind_tls=True)\n",
        "print(\"MLflow Tracking UI:\", ngrok_tunnel.public_url)"
      ],
      "execution_count": null,
      "outputs": [
        {
          "output_type": "stream",
          "text": [
            "MLflow Tracking UI: https://b10a1d9c4abe.ngrok.io\n",
            "time: 1.48 s (started: 2021-05-07 09:24:55 +00:00)\n"
          ],
          "name": "stdout"
        }
      ]
    },
    {
      "cell_type": "code",
      "metadata": {
        "colab": {
          "base_uri": "https://localhost:8080/"
        },
        "id": "_nGr8H3Hww9j",
        "outputId": "56190117-3986-46a7-f4f0-a6bbc1cd88c4"
      },
      "source": [
        "!mlflow ui"
      ],
      "execution_count": null,
      "outputs": [
        {
          "output_type": "stream",
          "text": [
            "[2021-05-07 09:24:59 +0000] [578] [INFO] Starting gunicorn 20.1.0\n",
            "[2021-05-07 09:24:59 +0000] [578] [INFO] Listening at: http://127.0.0.1:5000 (578)\n",
            "[2021-05-07 09:24:59 +0000] [578] [INFO] Using worker: sync\n",
            "[2021-05-07 09:24:59 +0000] [581] [INFO] Booting worker with pid: 581\n",
            "[2021-05-07 09:33:02 +0000] [578] [INFO] Handling signal: int\n",
            "\n",
            "Aborted!\n",
            "[2021-05-07 09:33:02 +0000] [581] [INFO] Worker exiting (pid: 581)\n",
            "[2021-05-07 09:33:02 +0000] [578] [INFO] Shutting down: Master\n",
            "time: 8min 5s (started: 2021-05-07 09:24:57 +00:00)\n"
          ],
          "name": "stdout"
        }
      ]
    },
    {
      "cell_type": "markdown",
      "metadata": {
        "id": "fHM8m_jqxIHt"
      },
      "source": [
        "# LightGBM"
      ]
    },
    {
      "cell_type": "markdown",
      "metadata": {
        "id": "bHmE5qAj9-4g"
      },
      "source": [
        "* **Light GBM** is a gradient boosting framework that uses tree based learning algorithm.\n",
        "\n",
        "\n",
        "* Light GBM grows tree vertically while other algorithm grows trees horizontally meaning that Light GBM grows tree leaf-wise while other algorithm grows level-wise.\n",
        "\n",
        "\n",
        "* We chose LightGBM because of its high speed, because it can handle large datasets and it takes lower memory to run. It also focuses on accuracy of results.\n",
        "\n",
        "\n",
        "* For hyperparameter tuning, we chose a **Bayesian hyperparameter Optimization** approach which builds a probability model of the objective function and uses it to select the most promising hyperparameters to evaluate in the true objective function. Here we use gaussian process-based optimisation.\n",
        "\n",
        "* Let's start by splitting the train set into a train set and a validation set. We don't use the test set in the hyper-parameter optimization to avoid any leak :"
      ]
    },
    {
      "cell_type": "code",
      "metadata": {
        "colab": {
          "base_uri": "https://localhost:8080/"
        },
        "id": "D39vRBF_zeMW",
        "outputId": "2cf6192d-2326-4ad2-a57f-3057a4e5ad90"
      },
      "source": [
        "class Parameters:\n",
        "    # Preprocessing parameters\n",
        "    data_name: str =f\"DPE\"\n",
        "    model_name: str = f\"LightGBM\"\n",
        "    data_path: str = f\"/content/drive/My Drive/MVP/DPE/datasets/dpe_enriched.csv\"\n",
        "    img_path: str = f\"/content/drive/My Drive/MVP/DPE/images\"\n",
        "    model_path: str = f\"/content/drive/My Drive/MVP/DPE/models\"\n",
        "    k_folds: int = 10 # K-folds cross validation\n",
        "    test_size: float = 0.25 # Test data size\n",
        "    random_state: int = 42"
      ],
      "execution_count": 33,
      "outputs": [
        {
          "output_type": "stream",
          "text": [
            "time: 4.93 ms (started: 2021-05-27 12:49:20 +00:00)\n"
          ],
          "name": "stdout"
        }
      ]
    },
    {
      "cell_type": "code",
      "metadata": {
        "colab": {
          "base_uri": "https://localhost:8080/"
        },
        "id": "c3nCXwt8z4rv",
        "outputId": "8faa8de4-9a99-4652-dcb4-e459b12ad393"
      },
      "source": [
        "class Pipeline:\n",
        "    \"\"\"\n",
        "    Class that builds entire ML pipeline and saves it to MLflow.\n",
        "    \"\"\"\n",
        "\n",
        "    def __init__(self, parameters):\n",
        "        \"\"\"\n",
        "        Init pipeline with datasets, model parameters and performance measurements. \n",
        "        \"\"\"\n",
        "        self.params = parameters\n",
        "        self.dataset_path = params.data_path\n",
        "        self.dataset = None\n",
        "        self.X = None\n",
        "        self.y = None\n",
        "        self.X_train = None\n",
        "        self.X_test = None\n",
        "        self.y_train = None\n",
        "        self.y_test = None\n",
        "        self.y_test_class = None\n",
        "        self.y_pred = None\n",
        "        self.y_pred_class = None\n",
        "\n",
        "        self.classes = ['A','B','C','D','E','F','G']\n",
        "\n",
        "        self.cat_features = None\n",
        "        self.best_metric = None\n",
        "        self.best_n_estimators = None\n",
        "        self.num_leaves = None\n",
        "        self.learning_rate = None\n",
        "        self.boosting_type = None\n",
        "        self.best_max_depth = None\n",
        "        self.gbm = None\n",
        "\n",
        "        self.confusion_matrix = None\n",
        "        self.classification_metrics = None\n",
        "\n",
        "\n",
        "    def load_dataset(self):\n",
        "        \"\"\"\n",
        "        Load dataset into a pandas dataframe.\n",
        "        \"\"\"\n",
        "        self.dataset = pd.read_csv(self.dataset_path, decimal='.', low_memory=False, index_col=0)\n",
        "\n",
        "\n",
        "    def preprocessing(self):\n",
        "        \"\"\"\n",
        "        Preprocessing dataset, includes casting categorical features,\n",
        "        dropping useless features and selecting the target.\n",
        "        \"\"\"\n",
        "        self.dataset['code_departement'] = self.dataset['code_departement'].astype('category')\n",
        "        self.X = self.dataset.drop(['consommation_energie','estimation_ges', 'classe_consommation_ges',\n",
        "                            'date_visite_diagnostiqueur', 'date_etablissement_dpe','energie_totale',\n",
        "                            'code_region','code_insee_commune_actualise',\n",
        "                            'annee_construction','classe_estimation_ges','annee_visite'],axis = 1)\n",
        "\n",
        "        self.y = self.dataset['consommation_energie']\n",
        "\n",
        "\n",
        "    def train_test_split(self):\n",
        "        \"\"\"\n",
        "        Split data into train and test sets.\n",
        "        \"\"\"\n",
        "        self.X_train, self.X_test, self.y_train, self.y_test = train_test_split(self.X,self.y, test_size=self.params.test_size,\n",
        "                                                                                random_state=self.params.random_state,\n",
        "                                                                                stratify=self.X['classe_consommation_energie'])\n",
        "        self.X_train = self.X_train.drop(['classe_consommation_energie'], axis = 1)\n",
        "        self.X_test = self.X_test.drop(['classe_consommation_energie'], axis = 1)\n",
        "\n",
        "\n",
        "    def parameter_tuning(self):\n",
        "        \"\"\"\n",
        "        Hyperparameter tuning using grid search.\n",
        "        \"\"\"\n",
        "        # Assign categorical features\n",
        "        self.cat_features = ['code_departement', 'tr002_type_batiment_id']\n",
        "\n",
        "        # Parameters \n",
        "        params = {\n",
        "                'task': ['train'],\n",
        "                'boosting_type': ['gbdt'],#, 'rf'\n",
        "                'objective': ['regression'],\n",
        "                'metric': ['l2'],#auc\n",
        "                'learning_rate': [0.005], #0.01\n",
        "                'feature_fraction': [0.9],\n",
        "                'bagging_fraction': [0.7],\n",
        "                'bagging_freq': [10],\n",
        "                'verbose': [0],\n",
        "                'max_depth': [8, 10], #10, 12, 25\n",
        "                'num_leaves': [128], #128, 250 \n",
        "                'max_bin': [512],\n",
        "                #\"num_iterations\": [100000],\n",
        "                'n_estimators': [500], # 600\n",
        "                'is_training_metric' : ['True']\n",
        "                }\n",
        "\n",
        "        # Grid search\n",
        "        gbm = lgb.LGBMRegressor()\n",
        "        grid = GridSearchCV(gbm, params, cv=self.params.k_folds)\n",
        "        grid.fit(self.X_train, self.y_train, categorical_feature=self.cat_features)\n",
        "\n",
        "        # Assign the best parameters\n",
        "        self.best_metric = grid.best_params_['metric']\n",
        "        self.best_boosting_type = grid.best_params_['boosting_type']\n",
        "        self.best_num_leaves = grid.best_params_['num_leaves']\n",
        "        self.best_learning_rate = grid.best_params_['learning_rate']\n",
        "        self.best_n_estimators = grid.best_params_['n_estimators']\n",
        "        self.best_max_depth = grid.best_params_['max_depth']\n",
        "\n",
        "        # Log the best parameters    \n",
        "        mlflow.log_param(f'best_metric', self.best_metric)\n",
        "        mlflow.log_param(f'best_boosting_type', self.best_boosting_type)\n",
        "        mlflow.log_param(f'best_num_leaves', self.best_num_leaves)\n",
        "        mlflow.log_param(f'best_learning_rate', self.best_learning_rate)\n",
        "        mlflow.log_param(f'best_n_estimators', self.best_n_estimators)\n",
        "        mlflow.log_param(f'best_max_depth', self.best_max_depth)\n",
        "\n",
        "        \n",
        "    def k_fold_cross_validation(self):\n",
        "        \"\"\"\n",
        "        Apply k-fold cross validation.\n",
        "        \"\"\"\n",
        "        self.gbm = lgb.LGBMRegressor(metric=self.best_metric, n_estimators=self.best_n_estimators, num_leaves=self.num_leaves,\n",
        "                                    boosting_type=self.boosting_type, learning_rate=self.learning_rate)\n",
        "        kfold_scores = cross_val_score(self.gbm, self.X_train, self.y_train, cv=self.params.k_folds)\n",
        "\n",
        "        # Log accuracy metrics to MLflow \n",
        "        mlflow.log_metric(f\"average_accuracy\", kfold_scores.mean())\n",
        "        mlflow.log_metric(f\"std_accuracy\", kfold_scores.std())\n",
        "\n",
        "\n",
        "    def model_evaluation(self):\n",
        "        \"\"\"\n",
        "        Evaluate model using classification metrics by converting energy consumption (regression) to classes.\n",
        "        And log metrics to MLflow.\n",
        "        \"\"\"\n",
        "        # Assign classes to test target\n",
        "        c = self.y_test.copy() \n",
        "        conditions = [(c <= 50 ), (c > 50) & (c <= 90), (c> 90) & (c <= 150),(c > 150) & (c <= 230), (c > 230) & (c <= 330), (c > 330) & (c <450), (c >= 450)]\n",
        "        self.y_test_class = np.select(conditions, self.classes)\n",
        "\n",
        "        # Fit model\n",
        "        self.gbm.fit(self.X_train, self.y_train, categorical_feature=self.cat_features)\n",
        "        self.y_pred = self.gbm.predict(self.X_test)\n",
        "\n",
        "        # Assign classes to predicted target\n",
        "        c = self.y_pred.copy()\n",
        "        conditions = [(c <= 50), (c > 50) & (c <= 90), (c> 90) & (c <= 150),(c > 150) & (c <= 230), (c > 230) & (c <= 330), (c > 330) & (c <450), (c >= 450)]\n",
        "        self.y_pred_class = np.select(conditions, self.classes)\n",
        "\n",
        "        # Compute classification report\n",
        "        self.classification_metrics = metrics.classification_report(self.y_test_class, self.y_pred_class)\n",
        "        self.confusion_matrix = metrics.confusion_matrix(self.y_test_class, self.y_pred_class)\n",
        "\n",
        "        # Log accuracy to MLflow\n",
        "        #mlflow.log_metric(f\"train_accuracy\", self.tree.score(self.X_train, self.y_train))\n",
        "        #mlflow.log_metric(f\"test_accuracy\", self.tree.score(self.X_test, self.y_test))\n",
        "    \n",
        "\n",
        "    def log_confusion_metrics(self):\n",
        "        \"\"\"\n",
        "        Log classification report metrics to MLflow.\n",
        "        \"\"\"\n",
        "        classification_array = self.classification_metrics.split()\n",
        "\n",
        "        i = 5\n",
        "        for classe in self.classes:\n",
        "            precision = float(classification_array[i])\n",
        "            mlflow.log_metric(f\"precision_{classe}\", precision)\n",
        "\n",
        "            recall = float(classification_array[i+1])\n",
        "            mlflow.log_metric(f\"recall_{classe}\", recall)\n",
        "\n",
        "            f1_score = float(classification_array[i+2])\n",
        "            mlflow.log_metric(f\"f1-score_{classe}\", f1_score)\n",
        "\n",
        "            support = float(classification_array[i+3])\n",
        "            mlflow.log_metric(f\"support_{classe}\", support)\n",
        "\n",
        "            i = i+5\n",
        "\n",
        "        accuracy = float(classification_array[i])\n",
        "        mlflow.log_metric(\"accuracy\", accuracy)\n",
        "      \n",
        "\n",
        "    def save_model(self):\n",
        "        \"\"\"\n",
        "        Save model and performance plots.\n",
        "        \"\"\"\n",
        "        # Track confusion matrix plot\n",
        "        fig, axes = plt.subplots(figsize=(10,10))\n",
        "        disp = ConfusionMatrixDisplay(confusion_matrix=self.confusion_matrix, display_labels=self.classes)\n",
        "        disp = disp.plot(ax=axes)\n",
        "        plt.savefig(f\"{self.params.img_path}/confusion_matrix_{self.params.model_name}.png\")\n",
        "        # Log plot\n",
        "        mlflow.log_artifact(f\"{self.params.img_path}/confusion_matrix_{self.params.model_name}.png\")\n",
        "\n",
        "        # Feature Importance\n",
        "        explainer = shap.TreeExplainer(self.gbm)\n",
        "        shap_values = explainer.shap_values(self.X_test)\n",
        "\n",
        "        fig, axes = plt.subplots(figsize=(10,10))\n",
        "        shap.summary_plot(shap_values, self.X_test, show=False)\n",
        "        plt.savefig(f\"{pipeline.params.img_path}/feature_importance_{self.params.model_name}.png\", dpi=150, bbox_inches='tight')\n",
        "\n",
        "        fig, axes = plt.subplots(figsize=(10,10))\n",
        "        shap.summary_plot(shap_values, self.X_test, plot_type='bar', show=False)\n",
        "        plt.savefig(f\"{pipeline.params.img_path}/feature_importance_bar_{self.params.model_name}.png\", dpi=150, bbox_inches='tight')\n",
        "\n",
        "        # Log the best model\n",
        "        mlflow.sklearn.save_model(self.gbm, f\"{self.params.model_path}/_{self.params.model_name}\", serialization_format=mlflow.sklearn.SERIALIZATION_FORMAT_PICKLE)"
      ],
      "execution_count": 34,
      "outputs": [
        {
          "output_type": "stream",
          "text": [
            "time: 397 ms (started: 2021-05-27 12:49:22 +00:00)\n"
          ],
          "name": "stdout"
        }
      ]
    },
    {
      "cell_type": "code",
      "metadata": {
        "id": "Q3pNV9gZ8K5T"
      },
      "source": [
        "# Init MLflow client\n",
        "mlflow.set_experiment('DPE-LightGBM')\n",
        "\n",
        "params = Parameters()\n",
        "\n",
        "# Start MLflow experiment\n",
        "with mlflow.start_run(run_name='LightGBM') as run:\n",
        "    #Pipeline execution\n",
        "    pipeline = Pipeline(params)\n",
        "    pipeline.load_dataset()\n",
        "    pipeline.preprocessing()\n",
        "    pipeline.train_test_split()\n",
        "    pipeline.parameter_tuning()\n",
        "    pipeline.k_fold_cross_validation()\n",
        "    pipeline.model_evaluation()\n",
        "    pipeline.log_confusion_metrics()\n",
        "    pipeline.save_model()"
      ],
      "execution_count": null,
      "outputs": []
    },
    {
      "cell_type": "code",
      "metadata": {
        "colab": {
          "base_uri": "https://localhost:8080/"
        },
        "id": "3m5_Tq3xRD9q",
        "outputId": "021968a9-3efd-4536-94e2-08de4826ec36"
      },
      "source": [
        "# Terminate open tunnels if exist\n",
        "ngrok.kill()\n",
        "\n",
        "# Setting the authtoken (optional)\n",
        "# Get your authtoken from https://dashboard.ngrok.com/auth\n",
        "NGROK_AUTH_TOKEN = \"\"\n",
        "ngrok.set_auth_token(NGROK_AUTH_TOKEN)\n",
        "\n",
        "# Open an HTTPs tunnel on port 5000 for http://localhost:5000\n",
        "ngrok_tunnel = ngrok.connect(addr=\"5000\", proto=\"http\", bind_tls=True)\n",
        "print(\"MLflow Tracking UI:\", ngrok_tunnel.public_url)"
      ],
      "execution_count": null,
      "outputs": [
        {
          "output_type": "stream",
          "text": [
            "MLflow Tracking UI: https://41f92b8a3ad3.ngrok.io\n",
            "time: 298 ms (started: 2021-05-10 14:44:40 +00:00)\n"
          ],
          "name": "stdout"
        }
      ]
    },
    {
      "cell_type": "code",
      "metadata": {
        "colab": {
          "base_uri": "https://localhost:8080/"
        },
        "id": "Vwquva5nZmUn",
        "outputId": "c1d87f48-6232-4929-af1b-3ee2edfdf6eb"
      },
      "source": [
        "!mlflow ui"
      ],
      "execution_count": null,
      "outputs": [
        {
          "output_type": "stream",
          "text": [
            "[2021-05-10 14:44:43 +0000] [2102] [INFO] Starting gunicorn 20.1.0\n",
            "[2021-05-10 14:44:43 +0000] [2102] [INFO] Listening at: http://127.0.0.1:5000 (2102)\n",
            "[2021-05-10 14:44:43 +0000] [2102] [INFO] Using worker: sync\n",
            "[2021-05-10 14:44:43 +0000] [2105] [INFO] Booting worker with pid: 2105\n",
            "[2021-05-10 14:45:26 +0000] [2102] [INFO] Handling signal: int\n",
            "\n",
            "Aborted!\n",
            "[2021-05-10 14:45:27 +0000] [2105] [INFO] Worker exiting (pid: 2105)\n",
            "[2021-05-10 14:45:27 +0000] [2102] [INFO] Shutting down: Master\n",
            "time: 46 s (started: 2021-05-10 14:44:41 +00:00)\n"
          ],
          "name": "stdout"
        }
      ]
    },
    {
      "cell_type": "markdown",
      "metadata": {
        "id": "EjkwunebzwaH"
      },
      "source": [
        "# Catboost"
      ]
    },
    {
      "cell_type": "code",
      "metadata": {
        "id": "LDXdxz5A-VxT",
        "colab": {
          "base_uri": "https://localhost:8080/"
        },
        "outputId": "939394df-ca7b-4a8f-eba1-49ccbd1e219c"
      },
      "source": [
        "class Parameters:\n",
        "    # Preprocessing parameters\n",
        "    data_name: str =f\"DPE\"\n",
        "    data_path: str = f\"/content/drive/My Drive/MVP/DPE/datasets/dpe_enriched.csv\"\n",
        "    img_path: str = f\"/content/drive/My Drive/MVP/DPE/images\"\n",
        "    model_path: str = f\"/content/drive/My Drive/MVP/DPE/models\"\n",
        "    model_name: str = f\"CatBoost\"\n",
        "    k_folds: int = 10 # K-folds cross validation\n",
        "    test_size: float = 0.25 # Test data size\n",
        "    random_state: int = 42"
      ],
      "execution_count": null,
      "outputs": [
        {
          "output_type": "stream",
          "text": [
            "time: 6.05 ms (started: 2021-05-10 14:45:29 +00:00)\n"
          ],
          "name": "stdout"
        }
      ]
    },
    {
      "cell_type": "code",
      "metadata": {
        "id": "279XQztt-Xmi"
      },
      "source": [
        "class Pipeline:\n",
        "    \"\"\"\n",
        "    Class that builds entire ML pipeline and saves it to MLflow.\n",
        "    \"\"\"\n",
        "\n",
        "    def __init__(self, parameters):\n",
        "        \"\"\"\n",
        "        Init pipeline with datasets, model parameters and performance measurements. \n",
        "        \"\"\"\n",
        "        self.params = parameters\n",
        "        self.dataset_path = params.data_path\n",
        "        self.dataset = None\n",
        "\n",
        "        self.X = None\n",
        "        self.y = None\n",
        "        self.X_train = None\n",
        "        self.X_test = None\n",
        "        self.y_train = None\n",
        "        self.y_test = None\n",
        "        self.y_test_class = None\n",
        "        self.y_pred = None\n",
        "        self.y_pred_class = None\n",
        "        self.cat_features = None\n",
        "\n",
        "        self.best_iterations = None\n",
        "        self.best_depth = None\n",
        "        self.learning_rate = None\n",
        "        self.num_leaves = None\n",
        "        self.boosting_type = None\n",
        "        self.best_max_depth = None\n",
        "        self.cgb = None\n",
        "\n",
        "        self.classes = ['A','B','C','D','E','F','G']\n",
        "        self.confusion_matrix = None\n",
        "        self.classification_metrics = None\n",
        "\n",
        "\n",
        "    def load_dataset(self):\n",
        "        \"\"\"\n",
        "        Load dataset into a pandas dataframe.\n",
        "        \"\"\"\n",
        "        self.dataset = pd.read_csv(self.dataset_path, decimal='.', low_memory=False, index_col=0)\n",
        "\n",
        "\n",
        "    def preprocessing(self):\n",
        "        \"\"\"\n",
        "        Preprocessing dataset, includes \n",
        "        dropping useless features and selecting the target.\n",
        "        \"\"\"\n",
        "        self.X = self.dataset.drop(['consommation_energie','estimation_ges', 'classe_consommation_ges',\n",
        "                            'date_visite_diagnostiqueur', 'date_etablissement_dpe','energie_totale',\n",
        "                            'code_region','code_insee_commune_actualise',\n",
        "                            'annee_construction','classe_estimation_ges','annee_visite'],axis = 1)\n",
        "\n",
        "        self.y = self.dataset['consommation_energie']\n",
        "\n",
        "\n",
        "    def train_test_split(self):\n",
        "        \"\"\"\n",
        "        Split data into train and test sets.\n",
        "        \"\"\"\n",
        "        self.X_train, self.X_test, self.y_train, self.y_test = train_test_split(self.X,self.y, test_size=self.params.test_size,\n",
        "                                                                                random_state=self.params.random_state,\n",
        "                                                                                stratify=self.X['classe_consommation_energie'])\n",
        "        self.X_train = self.X_train.drop(['classe_consommation_energie'], axis = 1)\n",
        "        self.X_test = self.X_test.drop(['classe_consommation_energie'], axis = 1)\n",
        "\n",
        "\n",
        "    def parameter_tuning(self):\n",
        "        \"\"\"\n",
        "        Hyperparameter tuning using grid search.\n",
        "        \"\"\"\n",
        "        # Assign categorical features\n",
        "        self.cat_features = ['code_departement']\n",
        "\n",
        "        # Parameters \n",
        "        params = {\n",
        "                'iterations': [100, 500],#500\n",
        "                'learning_rate': [0.005],#, 0.01, 1\n",
        "                'depth': [8, 10, 12] #, 10, 12, 25\n",
        "                }\n",
        "  \n",
        "        # Grid search  \n",
        "        self.cgb = cgb.CatBoostRegressor(silent=True)\n",
        "        grid = GridSearchCV(self.cgb, params, cv=self.params.k_folds)\n",
        "        grid.fit(self.X_train, self.y_train, cat_features=self.cat_features)\n",
        "\n",
        "        # Assign the best parameters\n",
        "        self.best_metric = grid.best_params_['iterations']\n",
        "        self.best_boosting_type = grid.best_params_['learning_rate']\n",
        "        self.best_learning_rate = grid.best_params_['learning_rate']\n",
        "        #self.best_num_leaves = grid.best_params_['num_leaves']\n",
        "        #self.best_n_estimators = grid.best_params_['n_estimators']\n",
        "        #self.best_max_depth = grid.best_params_['max_depth']\n",
        "\n",
        "        # Log the best parameters   \n",
        "        mlflow.log_param(f'best_iterations', self.best_iterations)\n",
        "        mlflow.log_param(f'best_learning_rate', self.best_learning_rate)\n",
        "        mlflow.log_param(f'best_depth', self.best_depth)\n",
        "        #mlflow.log_param(f'best_learning_rate', self.best_learning_rate)\n",
        "        #mlflow.log_param(f'best_n_estimators', self.best_n_estimators)\n",
        "        #mlflow.log_param(f'best_max_depth', self.best_max_depth)\n",
        "\n",
        "      \n",
        "    def k_fold_cross_validation(self):\n",
        "        \"\"\"\n",
        "        Apply k-fold cross validation.\n",
        "        \"\"\"\n",
        "        self.cgb = cgb.CatBoostRegressor(depth=self.best_depth, iterations=self.best_iterations, learning_rate=self.learning_rate)\n",
        "        kfold_scores = cross_val_score(self.cgb, self.X_train, self.y_train, cv=self.params.k_folds)\n",
        "\n",
        "        # Log accuracy metrics to MLflow \n",
        "        mlflow.log_metric(f\"average_accuracy\", kfold_scores.mean())\n",
        "        mlflow.log_metric(f\"std_accuracy\", kfold_scores.std())\n",
        "\n",
        "\n",
        "    def model_evaluation(self):\n",
        "        \"\"\"\n",
        "        Evaluate model using classification metrics by converting energy consumption (regression) to classes.\n",
        "        And log metrics to MLflow.\n",
        "        \"\"\"\n",
        "        # Assign classes to test target\n",
        "        c = self.y_test.copy() \n",
        "        conditions = [(c <= 50), (c > 50) & (c <= 90), (c> 90) & (c <= 150),(c > 150) & (c <= 230), (c > 230) & (c <= 330), (c > 330) & (c <450), (c >= 450)]\n",
        "        self.y_test_class = np.select(conditions, self.classes)\n",
        "\n",
        "        # Fit model\n",
        "        self.cgb.fit(self.X_train, self.y_train, cat_features=self.cat_features)\n",
        "        self.y_pred = self.cgb.predict(self.X_test)\n",
        "\n",
        "        # Assign classes to predicted target\n",
        "        c = self.y_pred.copy()\n",
        "        conditions = [(c <= 50), (c > 50) & (c <= 90), (c> 90) & (c <= 150),(c > 150) & (c <= 230), (c > 230) & (c <= 330), (c > 330) & (c <450), (c >= 450)]\n",
        "        self.y_pred_class = np.select(conditions, self.classes)\n",
        "\n",
        "        # Compute classification report\n",
        "        self.classification_metrics = metrics.classification_report(self.y_test_class, self.y_pred_class)\n",
        "        self.confusion_matrix = metrics.confusion_matrix(self.y_test_class, self.y_pred_class)\n",
        "\n",
        "        # Log accuracy to MLflow\n",
        "        #mlflow.log_metric(f\"train_accuracy\", self.tree.score(self.X_train, self.y_train))\n",
        "        #mlflow.log_metric(f\"test_accuracy\", self.tree.score(self.X_test, self.y_test))\n",
        "\n",
        "\n",
        "    def log_confusion_metrics(self):\n",
        "        \"\"\"\n",
        "        Log classification report metrics to MLflow.\n",
        "        \"\"\"\n",
        "        classification_array = self.classification_metrics.split()\n",
        "\n",
        "        i = 5\n",
        "        for classe in self.classes:\n",
        "            precision = float(classification_array[i])\n",
        "            mlflow.log_metric(f\"precision_{classe}\", precision)\n",
        "\n",
        "            recall = float(classification_array[i+1])\n",
        "            mlflow.log_metric(f\"recall_{classe}\", recall)\n",
        "\n",
        "            f1_score = float(classification_array[i+2])\n",
        "            mlflow.log_metric(f\"f1-score_{classe}\", f1_score)\n",
        "\n",
        "            support = float(classification_array[i+3])\n",
        "            mlflow.log_metric(f\"support_{classe}\", support)\n",
        "\n",
        "            i = i+5\n",
        "\n",
        "        accuracy = float(classification_array[i])\n",
        "        mlflow.log_metric(\"accuracy\", accuracy)\n",
        "    \n",
        "\n",
        "    def save_model(self):\n",
        "        \"\"\"\n",
        "        Save model and performance plots.\n",
        "        \"\"\"\n",
        "        # Track confusion matrix plot\n",
        "        fig, axes = plt.subplots(figsize=(10,10))\n",
        "        disp = ConfusionMatrixDisplay(confusion_matrix=self.confusion_matrix, display_labels=self.classes)\n",
        "        disp = disp.plot(ax=axes)\n",
        "        plt.savefig(f\"{self.params.img_path}/confusion_matrix_{self.params.model_name}.png\")\n",
        "        # Log plot\n",
        "        mlflow.log_artifact(f\"{self.params.img_path}/confusion_matrix_{self.params.model_name}.png\")\n",
        "\n",
        "        # Feature Importance\n",
        "        explainer = shap.TreeExplainer(self.cgb)\n",
        "        shap_values = explainer.shap_values(self.X_test)\n",
        "\n",
        "        fig, axes = plt.subplots(figsize=(10,10))\n",
        "        shap.summary_plot(shap_values, self.X_test, show=False)\n",
        "        plt.savefig(f\"{pipeline.params.img_path}/feature_importance_{self.params.model_name}.png\", dpi=150, bbox_inches='tight')\n",
        "\n",
        "        fig, axes = plt.subplots(figsize=(10,10))\n",
        "        shap.summary_plot(shap_values, self.X_test, plot_type='bar', show=False)\n",
        "        plt.savefig(f\"{pipeline.params.img_path}/feature_importance_bar_{self.params.model_name}.png\", dpi=150, bbox_inches='tight')\n",
        "\n",
        "        # Track the best model\n",
        "        mlflow.sklearn.save_model(self.cgb, f\"{self.params.model_path}/_{self.params.model_name}\", serialization_format=mlflow.sklearn.SERIALIZATION_FORMAT_PICKLE)"
      ],
      "execution_count": null,
      "outputs": []
    },
    {
      "cell_type": "code",
      "metadata": {
        "id": "JfjbXznZCZi0"
      },
      "source": [
        "# Init MLflow client\n",
        "mlflow.set_experiment('DPE-CatBoost')\n",
        "\n",
        "params = Parameters()\n",
        "\n",
        "# Start MLflow experiment\n",
        "with mlflow.start_run(run_name='CatBoost') as run:\n",
        "    #Pipeline execution\n",
        "    pipeline = Pipeline(params)\n",
        "    pipeline.load_dataset()\n",
        "    pipeline.preprocessing()\n",
        "    pipeline.train_test_split()\n",
        "    pipeline.parameter_tuning()\n",
        "    pipeline.k_fold_cross_validation()\n",
        "    pipeline.model_evaluation()\n",
        "    pipeline.log_confusion_metrics()\n",
        "    pipeline.save_model()"
      ],
      "execution_count": null,
      "outputs": []
    },
    {
      "cell_type": "code",
      "metadata": {
        "colab": {
          "base_uri": "https://localhost:8080/"
        },
        "id": "UwMk-9brisVa",
        "outputId": "e6bf9ac6-651f-4735-df48-90e25a28a4bc"
      },
      "source": [
        "# Terminate open tunnels if exist\n",
        "ngrok.kill()\n",
        "\n",
        "# Setting the authtoken (optional)\n",
        "# Get your authtoken from https://dashboard.ngrok.com/auth\n",
        "NGROK_AUTH_TOKEN = \"1sCdZL0vOhPokZP6r1uZFcIG2B5_2AGxAFTUesCxw3MDWPEdw\"\n",
        "ngrok.set_auth_token(NGROK_AUTH_TOKEN)\n",
        "\n",
        "# Open an HTTPs tunnel on port 5000 for http://localhost:5000\n",
        "ngrok_tunnel = ngrok.connect(addr=\"5000\", proto=\"http\", bind_tls=True)\n",
        "print(\"MLflow Tracking UI:\", ngrok_tunnel.public_url)"
      ],
      "execution_count": null,
      "outputs": [
        {
          "output_type": "stream",
          "text": [
            "MLflow Tracking UI: https://9abbd83b359e.ngrok.io\n",
            "time: 408 ms (started: 2021-05-10 16:36:36 +00:00)\n"
          ],
          "name": "stdout"
        }
      ]
    },
    {
      "cell_type": "code",
      "metadata": {
        "colab": {
          "base_uri": "https://localhost:8080/"
        },
        "id": "gA_C7PUyjRvd",
        "outputId": "bf85c89f-0f8f-4484-c96c-166e8067fd11"
      },
      "source": [
        "!mlflow ui"
      ],
      "execution_count": null,
      "outputs": [
        {
          "output_type": "stream",
          "text": [
            "t=2021-05-10T16:36:39+0000 lvl=warn msg=\"failed to open private leg\" id=3439d95d70e9 privaddr=localhost:5000 err=\"dial tcp 127.0.0.1:5000: connect: connection refused\"\n"
          ],
          "name": "stderr"
        },
        {
          "output_type": "stream",
          "text": [
            "[2021-05-10 16:36:39 +0000] [2854] [INFO] Starting gunicorn 20.1.0\n",
            "[2021-05-10 16:36:39 +0000] [2854] [INFO] Listening at: http://127.0.0.1:5000 (2854)\n",
            "[2021-05-10 16:36:39 +0000] [2854] [INFO] Using worker: sync\n",
            "[2021-05-10 16:36:39 +0000] [2857] [INFO] Booting worker with pid: 2857\n",
            "[2021-05-10 16:36:58 +0000] [2854] [INFO] Handling signal: int\n",
            "[2021-05-10 16:36:59 +0000] [2857] [INFO] Worker exiting (pid: 2857)\n",
            "\n",
            "Aborted!\n",
            "[2021-05-10 16:36:59 +0000] [2854] [INFO] Shutting down: Master\n",
            "time: 22.1 s (started: 2021-05-10 16:36:37 +00:00)\n"
          ],
          "name": "stdout"
        }
      ]
    },
    {
      "cell_type": "markdown",
      "metadata": {
        "id": "mkdC4ka35Fqu"
      },
      "source": [
        "# Save mlruns to drive"
      ]
    },
    {
      "cell_type": "code",
      "metadata": {
        "id": "AjawChW8Sv9v"
      },
      "source": [
        "!zip -r /content/mlruns.zip  /content/mlruns"
      ],
      "execution_count": null,
      "outputs": []
    },
    {
      "cell_type": "code",
      "metadata": {
        "id": "IcOsj7VP5Pk1",
        "colab": {
          "base_uri": "https://localhost:8080/",
          "height": 35
        },
        "outputId": "2ff448b9-b1bb-45cf-ee8a-ab9b3643b436"
      },
      "source": [
        "shutil.move(\"/content/mlruns\", \"/content/drive/MyDrive/MVP/DPE/mlflow/mlruns\")"
      ],
      "execution_count": null,
      "outputs": [
        {
          "output_type": "execute_result",
          "data": {
            "application/vnd.google.colaboratory.intrinsic+json": {
              "type": "string"
            },
            "text/plain": [
              "'/content/drive/MyDrive/MVP/DPE/mlflow/mlruns'"
            ]
          },
          "metadata": {
            "tags": []
          },
          "execution_count": 51
        },
        {
          "output_type": "stream",
          "text": [
            "time: 3.83 s (started: 2021-05-10 16:32:14 +00:00)\n"
          ],
          "name": "stdout"
        }
      ]
    }
  ]
}